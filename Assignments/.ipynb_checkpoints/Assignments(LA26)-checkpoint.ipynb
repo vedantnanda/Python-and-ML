{
 "cells": [
  {
   "cell_type": "markdown",
   "metadata": {},
   "source": [
    "# Assignments"
   ]
  },
  {
   "cell_type": "code",
   "execution_count": 2,
   "metadata": {},
   "outputs": [
    {
     "name": "stdout",
     "output_type": "stream",
     "text": [
      "Enter number of vegetable you want to enter: 3\n",
      "Enter vegetable and price per each with space in between: potato 5\n",
      "Enter the vegetable and price of it: p 3\n",
      "Enter the vegetable and price of it: q 2\n",
      "Enter the vegetable and price of it: r 5\n",
      "{'p': 3, 'q': 2, 'r': 5}\n",
      "Enter your budget: 100\n",
      "Enter what you want to buy/replace and how much quantity\n",
      "Enter the vegetable and quantity of it: p 32\n",
      "Remaining balance:  4.0\n",
      "Vegetable\tQuantity\tPrice\n",
      "p \t\t 32 \t\t 96\n",
      "Enter ~ to stop shopping else enter anything else to continueq\n",
      "Enter what you want to buy/replace and how much quantity\n",
      "Enter the vegetable and quantity of it: q 3\n",
      "Remaining balance:  -2.0\n",
      "Vegetable\tQuantity\tPrice\n",
      "p \t\t 32 \t\t 96\n",
      "q \t\t 3 \t\t 6\n",
      "Enter ~ to stop shopping else enter anything else to continue~\n",
      "Balance out of budget can't exit\n",
      "Enter what you want to buy/replace and how much quantity\n",
      "Enter the vegetable and quantity of it: p -30\n",
      "Remaining balance:  88.0\n",
      "Vegetable\tQuantity\tPrice\n",
      "p \t\t 2 \t\t 6\n",
      "q \t\t 3 \t\t 6\n",
      "Enter ~ to stop shopping else enter anything else to continue~\n",
      "Grocery list:  {'p': 6, 'q': 6} \n",
      " Thanks for shopping!!\n"
     ]
    }
   ],
   "source": [
    "#LA 20-\n",
    "#Create the grocery list in dictionary of name quantity and price.\n",
    "#keep updating the list till user stops.\n",
    "#if the name matches with previous  name, only update quantity with price.\n",
    "#Print the list. Check if the items are within budget. Ask amount initially.\n",
    "#if not keep updating the quantity, and use negative numbers to reduce quantity\n",
    "#finally print qrocery amount and balance amount left\n",
    "from typing import Dict\n",
    "def printing(gr,b):\n",
    "    for i in gr:\n",
    "        print(i,\"\\t\\t\",b[i],\"\\t\\t\",gr[i])\n",
    "n = int(input(\"Enter number of vegetable you want to enter: \"))\n",
    "print(\"Enter vegetable and price per each with space in between: potato 5\")\n",
    "d = {}\n",
    "for _ in range(n):\n",
    "    l = input(\"Enter the vegetable and price of it: \").split()\n",
    "    d[l[0]] = int(l[1])\n",
    "print(d)\n",
    "a = int(input(\"Enter your budget: \"))\n",
    "rm = a\n",
    "gr = {}\n",
    "bag = {}\n",
    "while(True):\n",
    "    print(\"Enter what you want to buy/replace and how much quantity\")\n",
    "    l = input(\"Enter the vegetable and quantity of it: \").split()\n",
    "    if l[0] in d:\n",
    "        if int(l[1])>0 and rm>0:\n",
    "            if l[0] in gr:\n",
    "                gr[l[0]]+=int(l[1])*d[l[0]]\n",
    "                bag[l[0]] += int(l[1])\n",
    "            else:\n",
    "                gr[l[0]] = int(l[1]) * d[l[0]]\n",
    "                bag[l[0]] = int(l[1])\n",
    "        else:\n",
    "            if int(l[1])>0 and rm<0:\n",
    "                print(\"Out of Budget, cannot Buy\")\n",
    "            else:\n",
    "                if l[0] not in bag:\n",
    "                    print(\"Item not in bag\")\n",
    "                else:\n",
    "                    if bag[l[0]]>=abs(int(l[1])):\n",
    "                        bag[l[0]] += int(l[1])\n",
    "                        gr[l[0]] += int(l[1])*d[l[0]]\n",
    "                    else:\n",
    "                        print(\"You do not have the quantity of {0} in your bag\".format(l[0]))\n",
    "    else:\n",
    "        print(\"Item not in shop, cannot buy!!\")\n",
    "    s = 0.0\n",
    "    for i in gr:\n",
    "        s+=gr[i]\n",
    "    rm = a - s\n",
    "    print(\"Remaining balance: \",rm)\n",
    "    print(\"Vegetable\\tQuantity\\tPrice\")\n",
    "    printing(gr,bag)\n",
    "    b = input(\"Enter ~ to stop shopping else enter anything else to continue\")\n",
    "    if b==\"~\" and rm>=0:\n",
    "        break\n",
    "    elif b==\"~\" and rm<0:\n",
    "        print(\"Balance out of budget can't exit\")\n",
    "print(\"Grocery list: \",gr,\"\\n Thanks for shopping!!\")\n"
   ]
  },
  {
   "cell_type": "code",
   "execution_count": 3,
   "metadata": {},
   "outputs": [
    {
     "name": "stdout",
     "output_type": "stream",
     "text": [
      "[2, 3, 5, 7, 11, 13, 17, 19, 23, 29, 31, 37, 41, 43, 47, 53, 59, 61, 67, 71, 73, 79, 83, 89, 97]\n"
     ]
    }
   ],
   "source": [
    "#LA-21. Prime numbers using list comprehension\n",
    "#Print the prime numbers between 1 to 100 using list comprehension\n",
    "l = [z for z in range(2,101) if z not in [x for x in range(1,101) for y in range(1,x//2+1) if(x%y==0 and y!=1 and y!=x)]]\n",
    "print(l)\n"
   ]
  },
  {
   "cell_type": "markdown",
   "metadata": {},
   "source": [
    "### LA-22. Number of occurances\n",
    "#Read LotsOfwWrds.txt file and print the number of occurrences of the word \"apple\""
   ]
  },
  {
   "cell_type": "code",
   "execution_count": 4,
   "metadata": {},
   "outputs": [
    {
     "name": "stdout",
     "output_type": "stream",
     "text": [
      "Number of 'apple' in file:  12\n"
     ]
    }
   ],
   "source": [
    "#LA-22. Number of occurances\n",
    "#Read LotsOfwWrds.txt file and print the number of occurrences of the word \"apple\"\n",
    "fo = open(\"LotsOfWords.txt\",\"r\")\n",
    "l = fo.read().split()\n",
    "c = 0\n",
    "for i in l:\n",
    "    if \"apple\" in i:\n",
    "        c+=1\n",
    "print(\"Number of 'apple' in file: \",c)\n"
   ]
  },
  {
   "cell_type": "markdown",
   "metadata": {},
   "source": [
    "### LA-23 Inverse of numbers to take numbers from user and store them to a list.\n",
    "Then add the inverse of all numbers and print sum"
   ]
  },
  {
   "cell_type": "code",
   "execution_count": 6,
   "metadata": {},
   "outputs": [
    {
     "name": "stdout",
     "output_type": "stream",
     "text": [
      "Rnter number of numbers you want to enter: 4\n",
      "Enter number:1\n",
      "Enter number:2\n",
      "Enter number:0\n",
      "Zero not allowed!\n",
      "Enter number:1\n",
      "[1.0, 0.5, 1.0] \n",
      "Sum of all inverse:  2.5\n"
     ]
    }
   ],
   "source": [
    "### LA-23 Inverse of numbers to take numbers from user and store them to a list.\n",
    "#Then add the inverse of all numbers and print sum\n",
    "li = []\n",
    "sum = 0.0\n",
    "m = int(input(\"Rnter number of numbers you want to enter: \"))\n",
    "for i in range(m):   \n",
    "    n = (input(\"Enter number:\"))\n",
    "    n=float(n)\n",
    "    try:\n",
    "        li.append(1/n)\n",
    "        sum += 1/n\n",
    "    except ZeroDivisionError:\n",
    "        print(\"Zero not allowed!\")\n",
    "print(li,\"\\nSum of all inverse: \",sum)"
   ]
  },
  {
   "cell_type": "code",
   "execution_count": 7,
   "metadata": {},
   "outputs": [],
   "source": [
    "#LA-24. Certificate\n",
    "#One file contains details of student line Name, Roll number, Class and percentage.\n",
    "#Another text file contains the sdample certificate printing data.\n",
    "#Replace the sample copy with student details and keep a separate copy\n",
    "#for all students who are in class 10 and have scored above 40%\n",
    "\n",
    "try:\n",
    "    fo = open(\"stulist.txt\",\"r\")\n",
    "    l = fo.read()\n",
    "    fo.close()\n",
    "    ll = list(map(str,l.split(\"\\n\")))\n",
    "    f1 = open(\"samplecertificate.txt\",\"r\")\n",
    "    s = str(f1.read())\n",
    "    f1.close()\n",
    "    k = 1\n",
    "    li = []\n",
    "    lj = []\n",
    "    for j in range(len(ll)):\n",
    "        li.append(ll[j].split())\n",
    "    for i in li:\n",
    "        if i!=[] and int(i[2]) == 10 and float(i[3]) >=40 and k<len(li):\n",
    "            c = \"certificate{0}.txt\".format(k)\n",
    "            f2 = open(c,\"w\")\n",
    "            f2.write(s.format(i[0],i[2],i[1],i[3]))\n",
    "            f2.close()\n",
    "            k +=1\n",
    "except Exception as e:\n",
    "    print(\"Eception Occured: \",e)"
   ]
  },
  {
   "cell_type": "markdown",
   "metadata": {},
   "source": [
    "### LA-25. Identity matrix Generation\n",
    "Take a number representing orderof a matrix from the user and<br>\n",
    "create an identity matrix of that order using list comprehension"
   ]
  },
  {
   "cell_type": "code",
   "execution_count": 58,
   "metadata": {},
   "outputs": [
    {
     "name": "stdout",
     "output_type": "stream",
     "text": [
      "Enter size of matrix:  5\n",
      "[[1, 0, 0, 0, 0], [0, 1, 0, 0, 0], [0, 0, 1, 0, 0], [0, 0, 0, 1, 0], [0, 0, 0, 0, 1]]\n"
     ]
    }
   ],
   "source": [
    "#LA-25. Identity matrix Generation\n",
    "#Take a number representing orderof a matrix from the user and\n",
    "#create an identity matrix of that order using list comprehension\n",
    "n = int(input(\"Enter size of matrix:  \"))\n",
    "l = [[1 if k==j else 0 for k in range(n)]for j in range(n)]\n",
    "print(l)"
   ]
  },
  {
   "cell_type": "markdown",
   "metadata": {},
   "source": [
    "### LA-26. Income Tax Calculation\n",
    "Write a code to calculate income tax of people.<br>\n",
    "taxfile1.txt contains name and income of users of 1st month.<br>\n",
    "Similar files exist for next 2 months with name order changed.<br>\n",
    "rate.txt contains tax rates as follows:<br>\n",
    "upto Rs2,50,500 no Tax<br>\n",
    "Rs. 2,50,500 - Rs. 5,00,000 5%<br>\n",
    "Rs. 5,00,000 - Rs. 10,00,000 20%<br>\n",
    "Rs. 10,00,000 and beyond 30%<br>"
   ]
  },
  {
   "cell_type": "code",
   "execution_count": 33,
   "metadata": {},
   "outputs": [
    {
     "name": "stdout",
     "output_type": "stream",
     "text": [
      "Employee\t Salary\t\t\t Tax Amount \n",
      " --------------------------------------------------\n",
      "Emma \t\t 470000.0 \t\t 23500.0\n",
      "Eva \t\t 100000.0 \t\t 0.0\n",
      "Adam \t\t 60000.0 \t\t 0.0\n",
      "Mia \t\t 310000.0 \t\t 15500.0\n",
      "Charl \t\t 710900.0 \t\t 142180.0\n",
      "Mikey \t\t 60000.0 \t\t 0.0\n",
      "Chris \t\t 2000000.0 \t\t 600000.0\n",
      "Obama \t\t 30000.0 \t\t 0.0\n",
      "Larry \t\t 790500.0 \t\t 158100.0\n",
      "Evans \t\t 2000.0 \t\t 0.0\n",
      "Mike \t\t 300000.0 \t\t 15000.0\n",
      "Jobs \t\t 10000.0 \t\t 0.0\n",
      "Evan \t\t 500600.0 \t\t 100120.0\n",
      "Ava \t\t 20000.0 \t\t 0.0\n"
     ]
    }
   ],
   "source": [
    "di = {}\n",
    "for i in range(4):\n",
    "    t = \"taxfile{0}.txt\".format(i+1)\n",
    "    fo = open(t,\"r\")\n",
    "    s = str(fo.read())\n",
    "    fo.close()\n",
    "    ll = s.split()\n",
    "    for i in range(0,len(ll),2):\n",
    "        if ll[i] not in di:\n",
    "            di[ll[i]]=float(ll[i+1])\n",
    "        else:\n",
    "            di[ll[i]]+=float(ll[i+1])\n",
    "#print(di)\n",
    "fo = open(\"rate.txt\",\"r\")\n",
    "s1 = (fo.read().split())\n",
    "fo.close()\n",
    "t1 = list(map(float,[s1[9][0],s1[15][0:2],s1[20][0:2]]))\n",
    "tax = 0.0\n",
    "print(\"Employee\\t Salary\\t\\t\\t Tax Amount\",\"\\n\",\"-\"*50)\n",
    "for j in di:\n",
    "    if di[j]<float(s1[1][2:]):\n",
    "        tax = 0.0\n",
    "    elif di[j]>=float(s1[1][2:]) and di[j]<float(s1[8]):\n",
    "        tax = (t1[0]/100) * di[j]\n",
    "    elif di[j]>=float(s1[8]) and di[j]<float(s1[14]):\n",
    "        tax = (t1[1]/100) * di[j]\n",
    "    else:\n",
    "        tax = (t1[2]/100) * di[j]\n",
    "    print(j,\"\\t\\t\",di[j],\"\\t\\t\",tax)"
   ]
  },
  {
   "cell_type": "markdown",
   "metadata": {},
   "source": [
    "# Home Assignments"
   ]
  },
  {
   "cell_type": "markdown",
   "metadata": {},
   "source": [
    "### HA13. List to dictionary mapping\n",
    "map 2 list, one with student name and other with roll number and save it as a dictionary.<br>\n",
    "the output on should be:<br>\n",
    "{\"Name1\":'12a1234',\"Name2\":'3456'}"
   ]
  },
  {
   "cell_type": "code",
   "execution_count": 10,
   "metadata": {},
   "outputs": [
    {
     "name": "stdout",
     "output_type": "stream",
     "text": [
      "{'Name1': '1234', 'Name2': '9asd0', 'Name3': 'asd12'}\n"
     ]
    }
   ],
   "source": [
    "#HA13.List to dictionary mapping\n",
    "#map 2 list, one with student name and other with roll number and save it as a dictionary.\n",
    "#the output on should be:\n",
    "#{\"Name1\":'12a1234',\"Name2\":'3456'}\n",
    "di = {}\n",
    "def todict(n,a):\n",
    "    for i in range(len(n)):\n",
    "        di[n[i]]=a[i]\n",
    "    return di\n",
    "n = [\"Name1\",\"Name2\",\"Name3\"]\n",
    "r = [\"1234\",\"9asd0\",\"asd12\"]\n",
    "print(todict(n,r))"
   ]
  },
  {
   "cell_type": "code",
   "execution_count": 11,
   "metadata": {},
   "outputs": [
    {
     "name": "stdout",
     "output_type": "stream",
     "text": [
      "[1, 2, 4, 8, 16, 32, 64, 128, 256, 512]\n"
     ]
    }
   ],
   "source": [
    "#HA14. List of powers of 2\n",
    "#print first 10 powers of two using list comprehension\n",
    "print([2**x for x in range(10)])"
   ]
  },
  {
   "cell_type": "code",
   "execution_count": 12,
   "metadata": {},
   "outputs": [
    {
     "name": "stdout",
     "output_type": "stream",
     "text": [
      "[6, 5, 4, 3, 3]\n"
     ]
    }
   ],
   "source": [
    "# HA15. Addition of elements\n",
    "#Add elements in 2 list using map and lambda and print the list\n",
    "l1 = [1,2,3,4,5]\n",
    "l2 = [5,3,1,-1,-2]\n",
    "s = lambda x,y: x + y\n",
    "l3 = list(map(s,l1,l2))\n",
    "print(l3)"
   ]
  },
  {
   "cell_type": "code",
   "execution_count": 13,
   "metadata": {},
   "outputs": [
    {
     "name": "stdout",
     "output_type": "stream",
     "text": [
      "this is second paragraph line 1.this is second paragraph line 2.this is second paragraph line 3.this is second paragraph line 4.this is second paragraph line 5.this is second paragraph line 6.this is second paragraph line 7.this is second paragraph line 8.this is second paragraph line 9.this is second paragraph line 10.this is second paragraph line 11.\n"
     ]
    }
   ],
   "source": [
    "# HA16.Second paragraph reading\n",
    "#Read a text file and print the second paragraph from the file\n",
    "fo = open(\"2ndpara.txt\",\"r\")\n",
    "s = (fo.read())\n",
    "fo.close()\n",
    "l = (s.split(\"\\n\\n\"))\n",
    "print(l[1])"
   ]
  },
  {
   "cell_type": "code",
   "execution_count": 15,
   "metadata": {},
   "outputs": [
    {
     "name": "stdout",
     "output_type": "stream",
     "text": [
      "[1, 2, 4, 8, 16, 32, 64, 128, 256, 512]\n"
     ]
    }
   ],
   "source": [
    "# HA17. Delay Error\n",
    "#Add one line for 1 second delay in any code and handle any exception generated\n",
    "\n",
    "import time\n",
    "try:\n",
    "\ttime.sleep(3)\n",
    "\tprint([2**x for x in range(10)])\n",
    "except Exception as e:\n",
    "\tprint(e)"
   ]
  },
  {
   "cell_type": "markdown",
   "metadata": {},
   "source": [
    "## HA-18 Simple Data Extraction\n",
    "open the sample python file from this link\n",
    "<br>https://tinyurl.com/pythontestfile\n",
    "<br>and check the following\n",
    "<br>1. number of imports and print their names\n",
    "<br>2. Number of functions and their names\n",
    "<br>3. Number of lines of codes inside each function\n",
    "<br>4. Number of for loops and while loop condition\n",
    "<br>5. no of if else conditions\n",
    "<br>print all this after reading file"
   ]
  },
  {
   "cell_type": "code",
   "execution_count": 9,
   "metadata": {},
   "outputs": [
    {
     "name": "stdout",
     "output_type": "stream",
     "text": [
      "import count is 4  list is ['getopt', 'sys', 'urllib', 'time']\n",
      "def count is 5  list is ['main', 'Greg2JD', 'QuarterDates', 'GetMetaData', 'usage']\n",
      "for count is 2\n",
      " While count is 0\n",
      " if count is 11\n"
     ]
    }
   ],
   "source": [
    "#HA-18\n",
    "fo=open(\"pythontestfile.py\",\"r\")\n",
    "full_read=fo.readlines()\n",
    "import_count=0;import_list=[]\n",
    "def_count=0;def_list=[]\n",
    "for_count=0;while_count=0;if_count=0\n",
    "for i in full_read:\n",
    "    i=i.split()\n",
    "    if(\"import\" in i):\n",
    "        import_list.append(i[1])\n",
    "        import_count+=1\n",
    "    elif(\"def\" in i):\n",
    "        def_list.append(i[1].split('(')[0])\n",
    "        def_count+=1\n",
    "    elif(\"for\" in i and i[0]==\"for\"):\n",
    "        for_count+=1\n",
    "    elif(\"while\" in i and \"#\" not in i):\n",
    "        while_count+=1\n",
    "    elif(\"if\" in i and i[0]==\"if\" or \"elif\" in i and i[0]==\"elif\"):\n",
    "        if_count+=1\n",
    "print(\"import count is {0}  list is {1}\".format(import_count,import_list))\n",
    "print(\"def count is {0}  list is {1}\".format(def_count,def_list))\n",
    "print(\"for count is {0}\\n While count is {1}\\n if count is {2}\".format(for_count,while_count,if_count))"
   ]
  },
  {
   "cell_type": "code",
   "execution_count": 43,
   "metadata": {},
   "outputs": [
    {
     "name": "stdout",
     "output_type": "stream",
     "text": [
      "[[1 2 3]\n",
      " [4 5 6]\n",
      " [7 8 9]] \n",
      "\n",
      "[[1 2]\n",
      " [4 5]] \n",
      "\n",
      " [[2 3]\n",
      " [5 6]] \n",
      "\n",
      " [[4 5]\n",
      " [7 8]] \n",
      "\n",
      " [[5 6]\n",
      " [8 9]]\n"
     ]
    }
   ],
   "source": [
    "# HA19. Submatrix\n",
    "#Take a 3x3 matrix and print all four 2x2 submatrices using numpy\n",
    "import numpy as np\n",
    "a = np.array([[1,2,3],[4,5,6],[7,8,9]])\n",
    "print(a,\"\\n\")\n",
    "print(a[0:2,0:2],\"\\n\\n\",a[:2,1:],\"\\n\\n\",a[1:,0:2],\"\\n\\n\",a[1:,1:])"
   ]
  },
  {
   "cell_type": "code",
   "execution_count": 52,
   "metadata": {},
   "outputs": [
    {
     "name": "stdout",
     "output_type": "stream",
     "text": [
      "[[0.72612702 0.67019889 0.6754399 ]\n",
      " [0.92729951 0.18572175 0.34998712]\n",
      " [0.55844578 0.34327386 0.21383333]] \n",
      "\n",
      " [[0.41737189 0.18306194 0.68869779]\n",
      " [0.53788778 0.7001494  0.79526748]\n",
      " [0.54815772 0.4257029  0.02711604]] \n",
      "\n",
      " [[1.14349891 0.85326084 1.36413769]\n",
      " [1.46518729 0.88587115 1.1452546 ]\n",
      " [1.1066035  0.76897676 0.24094937]]\n",
      "[[1.14349891 0.85326084 1.36413769]\n",
      " [1.46518729 0.88587115 1.1452546 ]\n",
      " [1.1066035  0.76897676 0.24094937]]\n"
     ]
    }
   ],
   "source": [
    "#HA20. Random matrix addition\n",
    "#Take a 3x3 matrix and add it element-wise with another random  3x3 matrix using numpy\n",
    "\n",
    "a = np.random.random((3,3))\n",
    "b = np.random.random((3,3))\n",
    "print(a,\"\\n\\n\",b,\"\\n\\n\",a+b)\n",
    "#print(np.add(a,b))"
   ]
  },
  {
   "cell_type": "code",
   "execution_count": null,
   "metadata": {},
   "outputs": [],
   "source": [
    "#HA21. Operations on matrices\n",
    "#Acceptvalues of a two 3x3 matrices from user and perform 4 element-wise arithmetic operations using numpy\n"
   ]
  },
  {
   "cell_type": "code",
   "execution_count": null,
   "metadata": {},
   "outputs": [],
   "source": [
    "#HA22. Plotting exponential curves\n",
    "#Plot an exponential curve of powers ranging from 1 to 6 for 200 samples in a single graph.\n",
    "#Use different colours for each part\n"
   ]
  }
 ],
 "metadata": {
  "kernelspec": {
   "display_name": "Python 3",
   "language": "python",
   "name": "python3"
  },
  "language_info": {
   "codemirror_mode": {
    "name": "ipython",
    "version": 3
   },
   "file_extension": ".py",
   "mimetype": "text/x-python",
   "name": "python",
   "nbconvert_exporter": "python",
   "pygments_lexer": "ipython3",
   "version": "3.6.5"
  }
 },
 "nbformat": 4,
 "nbformat_minor": 2
}
