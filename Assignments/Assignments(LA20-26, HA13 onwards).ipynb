{
 "cells": [
  {
   "cell_type": "markdown",
   "metadata": {},
   "source": [
    "# Assignments"
   ]
  },
  {
   "cell_type": "markdown",
   "metadata": {},
   "source": [
    "### LA 20-\n",
    "Create the grocery list in dictionary of name quantity and price.<br>\n",
    "keep updating the list till user stops.<br>\n",
    "if the name matches with previous  name, only update quantity with price.<br>\n",
    "Print the list. Check if the items are within budget. Ask amount initially.<br>\n",
    "if not keep updating the quantity, and use negative numbers to reduce quantity<br>\n",
    "finally print qrocery amount and balance amount left<br>"
   ]
  },
  {
   "cell_type": "code",
   "execution_count": 1,
   "metadata": {},
   "outputs": [
    {
     "name": "stdout",
     "output_type": "stream",
     "text": [
      "Enter number of vegetable you want to enter: 2\n",
      "Enter vegetable and price per each with space in between: potato 5\n",
      "Enter the vegetable and price of it: pot 20\n",
      "Enter the vegetable and price of it: oni 30\n",
      "{'pot': 20, 'oni': 30}\n",
      "Enter your budget: 300\n",
      "Enter what you want to buy/replace and how much quantity\n",
      "Enter the vegetable and quantity of it: pot 5\n",
      "Remaining balance:  200.0\n",
      "Vegetable\tQuantity\tPrice\n",
      "pot \t\t 5 \t\t 100\n",
      "Enter ~ to stop shopping else enter anything else to continueq\n",
      "Enter what you want to buy/replace and how much quantity\n",
      "Enter the vegetable and quantity of it: oni 20\n",
      "Remaining balance:  -400.0\n",
      "Vegetable\tQuantity\tPrice\n",
      "pot \t\t 5 \t\t 100\n",
      "oni \t\t 20 \t\t 600\n",
      "Enter ~ to stop shopping else enter anything else to continueq\n",
      "Enter what you want to buy/replace and how much quantity\n",
      "Enter the vegetable and quantity of it: pot 10\n",
      "Out of Budget, cannot Buy\n",
      "Remaining balance:  -400.0\n",
      "Vegetable\tQuantity\tPrice\n",
      "pot \t\t 5 \t\t 100\n",
      "oni \t\t 20 \t\t 600\n",
      "Enter ~ to stop shopping else enter anything else to continue1\n",
      "Enter what you want to buy/replace and how much quantity\n",
      "Enter the vegetable and quantity of it: p -5\n",
      "Item not in shop, cannot buy!!\n",
      "Remaining balance:  -400.0\n",
      "Vegetable\tQuantity\tPrice\n",
      "pot \t\t 5 \t\t 100\n",
      "oni \t\t 20 \t\t 600\n",
      "Enter ~ to stop shopping else enter anything else to continuepot -5\n",
      "Enter what you want to buy/replace and how much quantity\n",
      "Enter the vegetable and quantity of it: pot -5\n",
      "Remaining balance:  -300.0\n",
      "Vegetable\tQuantity\tPrice\n",
      "pot \t\t 0 \t\t 0\n",
      "oni \t\t 20 \t\t 600\n",
      "Enter ~ to stop shopping else enter anything else to continueq\n",
      "Enter what you want to buy/replace and how much quantity\n",
      "Enter the vegetable and quantity of it: oni -20\n",
      "Remaining balance:  300.0\n",
      "Vegetable\tQuantity\tPrice\n",
      "pot \t\t 0 \t\t 0\n",
      "oni \t\t 0 \t\t 0\n",
      "Enter ~ to stop shopping else enter anything else to continue~\n",
      "Grocery list:  {'pot': 0, 'oni': 0} \n",
      " Thanks for shopping!!\n"
     ]
    }
   ],
   "source": [
    "#LA 20-\n",
    "#Create the grocery list in dictionary of name quantity and price.\n",
    "#keep updating the list till user stops.\n",
    "#if the name matches with previous  name, only update quantity with price.\n",
    "#Print the list. Check if the items are within budget. Ask amount initially.\n",
    "#if not keep updating the quantity, and use negative numbers to reduce quantity\n",
    "#finally print qrocery amount and balance amount left\n",
    "from typing import Dict\n",
    "def printing(gr,b):\n",
    "    for i in gr:\n",
    "        print(i,\"\\t\\t\",b[i],\"\\t\\t\",gr[i])\n",
    "n = int(input(\"Enter number of vegetable you want to enter: \"))\n",
    "print(\"Enter vegetable and price per each with space in between: potato 5\")\n",
    "d = {}\n",
    "for _ in range(n):\n",
    "    l = input(\"Enter the vegetable and price of it: \").split()\n",
    "    d[l[0]] = int(l[1])\n",
    "print(d)\n",
    "a = int(input(\"Enter your budget: \"))\n",
    "rm = a\n",
    "gr = {}\n",
    "bag = {}\n",
    "while(True):\n",
    "    print(\"Enter what you want to buy/replace and how much quantity\")\n",
    "    l = input(\"Enter the vegetable and quantity of it: \").split()\n",
    "    if l[0] in d:\n",
    "        if int(l[1])>0 and rm>0:\n",
    "            if l[0] in gr:\n",
    "                gr[l[0]]+=int(l[1])*d[l[0]]\n",
    "                bag[l[0]] += int(l[1])\n",
    "            else:\n",
    "                gr[l[0]] = int(l[1]) * d[l[0]]\n",
    "                bag[l[0]] = int(l[1])\n",
    "        else:\n",
    "            if int(l[1])>0 and rm<0:\n",
    "                print(\"Out of Budget, cannot Buy\")\n",
    "            else:\n",
    "                if l[0] not in bag:\n",
    "                    print(\"Item not in bag\")\n",
    "                else:\n",
    "                    if bag[l[0]]>=abs(int(l[1])):\n",
    "                        bag[l[0]] += int(l[1])\n",
    "                        gr[l[0]] += int(l[1])*d[l[0]]\n",
    "                    else:\n",
    "                        print(\"You do not have the quantity of {0} in your bag\".format(l[0]))\n",
    "    else:\n",
    "        print(\"Item not in shop, cannot buy!!\")\n",
    "    s = 0.0\n",
    "    for j in gr:\n",
    "        s += gr[j]\n",
    "    rm = a -  s\n",
    "    print(\"Remaining balance: \",rm)\n",
    "    print(\"Vegetable\\tQuantity\\tPrice\")\n",
    "    printing(gr,bag)\n",
    "    b = input(\"Enter ~ to stop shopping else enter anything else to continue\")\n",
    "    if b==\"~\" and rm>=0:\n",
    "        break\n",
    "    elif b==\"~\" and rm<0:\n",
    "        print(\"Balance out of budget can't exit\")\n",
    "print(\"Grocery list: \",gr,\"\\n Thanks for shopping!!\")\n"
   ]
  },
  {
   "cell_type": "markdown",
   "metadata": {},
   "source": [
    "### LA-21. Prime numbers using list comprehension\n",
    "Print the prime numbers between 1 to 100 using list comprehension"
   ]
  },
  {
   "cell_type": "code",
   "execution_count": 5,
   "metadata": {},
   "outputs": [
    {
     "name": "stdout",
     "output_type": "stream",
     "text": [
      "[2, 3, 5, 7, 11, 13, 17, 19, 23, 29, 31, 37, 41, 43, 47, 53, 59, 61, 67, 71, 73, 79, 83, 89, 97]\n"
     ]
    }
   ],
   "source": [
    "#LA-21. Prime numbers using list comprehension\n",
    "#Print the prime numbers between 1 to 100 using list comprehension\n",
    "l = [z for z in range(2,101) if z not in [x for x in range(1,101) for y in range(1,x//2+1) if(x%y==0 and y!=1 and y!=x)]]\n",
    "print(l)\n"
   ]
  },
  {
   "cell_type": "markdown",
   "metadata": {},
   "source": [
    "### LA-22. Number of occurances\n",
    "#Read LotsOfwWrds.txt file and print the number of occurrences of the word \"apple\""
   ]
  },
  {
   "cell_type": "code",
   "execution_count": 6,
   "metadata": {},
   "outputs": [
    {
     "name": "stdout",
     "output_type": "stream",
     "text": [
      "Number of 'apple' in file:  12\n"
     ]
    }
   ],
   "source": [
    "#LA-22. Number of occurances\n",
    "#Read LotsOfwWrds.txt file and print the number of occurrences of the word \"apple\"\n",
    "fo = open(\"LotsOfWords.txt\",\"r\")\n",
    "l = fo.read().split()\n",
    "c = 0\n",
    "for i in l:\n",
    "    if \"apple\" in i:\n",
    "        c+=1\n",
    "print(\"Number of 'apple' in file: \",c)\n"
   ]
  },
  {
   "cell_type": "markdown",
   "metadata": {},
   "source": [
    "### LA-23 Inverse of numbers to take numbers from user and store them to a list.\n",
    "Then add the inverse of all numbers and print sum"
   ]
  },
  {
   "cell_type": "code",
   "execution_count": 7,
   "metadata": {},
   "outputs": [
    {
     "name": "stdout",
     "output_type": "stream",
     "text": [
      "Rnter number of numbers you want to enter: 5\n",
      "Enter number:1\n",
      "Enter number:0\n",
      "Zero not allowed!\n",
      "Enter number:2\n",
      "Enter number:5\n",
      "Enter number:8\n",
      "[1.0, 0.5, 0.2, 0.125] \n",
      "Sum of all inverse:  1.825\n"
     ]
    }
   ],
   "source": [
    "# LA-23 Inverse of numbers to take numbers from user and store them to a list.\n",
    "#Then add the inverse of all numbers and print sum\n",
    "li = []\n",
    "sum = 0.0\n",
    "m = int(input(\"Rnter number of numbers you want to enter: \"))\n",
    "for i in range(m):   \n",
    "    n = (input(\"Enter number:\"))\n",
    "    n=float(n)\n",
    "    try:\n",
    "        li.append(1/n)\n",
    "        sum += 1/n\n",
    "    except ZeroDivisionError:\n",
    "        print(\"Zero not allowed!\")\n",
    "print(li,\"\\nSum of all inverse: \",sum)"
   ]
  },
  {
   "cell_type": "markdown",
   "metadata": {},
   "source": [
    "### LA-24. Certificate\n",
    "One file contains details of student line Name, Roll number, Class and percentage.<br>\n",
    "Another text file contains the sdample certificate printing data.<br>\n",
    "Replace the sample copy with student details and keep a separate copy<br>\n",
    "for all students who are in class 10 and have scored above 40%<br>"
   ]
  },
  {
   "cell_type": "code",
   "execution_count": 9,
   "metadata": {},
   "outputs": [],
   "source": [
    "#LA-24. Certificate\n",
    "#One file contains details of student line Name, Roll number, Class and percentage.\n",
    "#Another text file contains the sdample certificate printing data.\n",
    "#Replace the sample copy with student details and keep a separate copy\n",
    "#for all students who are in class 10 and have scored above 40%\n",
    "\n",
    "try:\n",
    "    fo = open(\"stulist.txt\",\"r\")\n",
    "    l = fo.read()\n",
    "    fo.close()\n",
    "    ll = list(map(str,l.split(\"\\n\")))\n",
    "    f1 = open(\"samplecertificate.txt\",\"r\")\n",
    "    s = str(f1.read())\n",
    "    f1.close()\n",
    "    k = 1\n",
    "    li = []\n",
    "    lj = []\n",
    "    for j in range(len(ll)):\n",
    "        li.append(ll[j].split())\n",
    "    for i in li:\n",
    "        if i!=[] and int(i[2]) == 10 and float(i[3]) >=40 and k<len(li):\n",
    "            c = \"certificate{0}.txt\".format(k)\n",
    "            f2 = open(c,\"w\")\n",
    "            f2.write(s.format(i[0],i[2],i[1],i[3]))\n",
    "            f2.close()\n",
    "            k +=1\n",
    "except Exception as e:\n",
    "    print(\"Eception Occured: \",e)"
   ]
  },
  {
   "cell_type": "markdown",
   "metadata": {},
   "source": [
    "### LA-25. Identity matrix Generation\n",
    "Take a number representing orderof a matrix from the user and<br>\n",
    "create an identity matrix of that order using list comprehension"
   ]
  },
  {
   "cell_type": "code",
   "execution_count": 10,
   "metadata": {},
   "outputs": [
    {
     "name": "stdout",
     "output_type": "stream",
     "text": [
      "Enter size of matrix:  4\n",
      "[[1, 0, 0, 0], [0, 1, 0, 0], [0, 0, 1, 0], [0, 0, 0, 1]]\n"
     ]
    }
   ],
   "source": [
    "#LA-25. Identity matrix Generation\n",
    "#Take a number representing orderof a matrix from the user and\n",
    "#create an identity matrix of that order using list comprehension\n",
    "n = int(input(\"Enter size of matrix:  \"))\n",
    "l = [[1 if k==j else 0 for k in range(n)]for j in range(n)]\n",
    "print(l)"
   ]
  },
  {
   "cell_type": "markdown",
   "metadata": {},
   "source": [
    "### LA-26. Income Tax Calculation\n",
    "Write a code to calculate income tax of people.<br>\n",
    "taxfile1.txt contains name and income of users of 1st month.<br>\n",
    "Similar files exist for next 2 months with name order changed.<br>\n",
    "rate.txt contains tax rates as follows:<br>\n",
    "upto Rs2,50,500 no Tax<br>\n",
    "Rs. 2,50,500 - Rs. 5,00,000 5%<br>\n",
    "Rs. 5,00,000 - Rs. 10,00,000 20%<br>\n",
    "Rs. 10,00,000 and beyond 30%<br>"
   ]
  },
  {
   "cell_type": "code",
   "execution_count": 11,
   "metadata": {},
   "outputs": [
    {
     "name": "stdout",
     "output_type": "stream",
     "text": [
      "Employee\t Salary\t\t\t Tax Amount \n",
      " --------------------------------------------------\n",
      "Emma \t\t 470000.0 \t\t 23500.0\n",
      "Eva \t\t 100000.0 \t\t 0.0\n",
      "Adam \t\t 60000.0 \t\t 0.0\n",
      "Mia \t\t 310000.0 \t\t 15500.0\n",
      "Charl \t\t 710900.0 \t\t 142180.0\n",
      "Mikey \t\t 60000.0 \t\t 0.0\n",
      "Chris \t\t 2000000.0 \t\t 600000.0\n",
      "Obama \t\t 30000.0 \t\t 0.0\n",
      "Larry \t\t 790500.0 \t\t 158100.0\n",
      "Evans \t\t 2000.0 \t\t 0.0\n",
      "Mike \t\t 300000.0 \t\t 15000.0\n",
      "Jobs \t\t 10000.0 \t\t 0.0\n",
      "Evan \t\t 500600.0 \t\t 100120.0\n",
      "Ava \t\t 20000.0 \t\t 0.0\n"
     ]
    }
   ],
   "source": [
    "di = {}\n",
    "for i in range(4):\n",
    "    t = \"taxfile{0}.txt\".format(i+1)\n",
    "    fo = open(t,\"r\")\n",
    "    s = str(fo.read())\n",
    "    fo.close()\n",
    "    ll = s.split()\n",
    "    for i in range(0,len(ll),2):\n",
    "        if ll[i] not in di:\n",
    "            di[ll[i]]=float(ll[i+1])\n",
    "        else:\n",
    "            di[ll[i]]+=float(ll[i+1])\n",
    "#print(di)\n",
    "fo = open(\"rate.txt\",\"r\")\n",
    "s1 = (fo.read().split())\n",
    "fo.close()\n",
    "t1 = list(map(float,[s1[9][0],s1[15][0:2],s1[20][0:2]]))\n",
    "tax = 0.0\n",
    "print(\"Employee\\t Salary\\t\\t\\t Tax Amount\",\"\\n\",\"-\"*50)\n",
    "for j in di:\n",
    "    if di[j]<float(s1[1][2:]):\n",
    "        tax = 0.0\n",
    "    elif di[j]>=float(s1[1][2:]) and di[j]<float(s1[8]):\n",
    "        tax = (t1[0]/100) * di[j]\n",
    "    elif di[j]>=float(s1[8]) and di[j]<float(s1[14]):\n",
    "        tax = (t1[1]/100) * di[j]\n",
    "    else:\n",
    "        tax = (t1[2]/100) * di[j]\n",
    "    print(j,\"\\t\\t\",di[j],\"\\t\\t\",tax)"
   ]
  },
  {
   "cell_type": "markdown",
   "metadata": {},
   "source": [
    "# Home Assignments"
   ]
  },
  {
   "cell_type": "markdown",
   "metadata": {},
   "source": [
    "### HA13. List to dictionary mapping\n",
    "map 2 list, one with student name and other with roll number and save it as a dictionary.<br>\n",
    "the output on should be:<br>\n",
    "{\"Name1\":'12a1234',\"Name2\":'3456'}"
   ]
  },
  {
   "cell_type": "code",
   "execution_count": null,
   "metadata": {},
   "outputs": [],
   "source": [
    "#HA13.List to dictionary mapping\n",
    "#map 2 list, one with student name and other with roll number and save it as a dictionary.\n",
    "#the output on should be:\n",
    "#{\"Name1\":'12a1234',\"Name2\":'3456'}\n",
    "di = {}\n",
    "def todict(n,a):\n",
    "    for i in range(len(n)):\n",
    "        di[n[i]]=a[i]\n",
    "    return di\n",
    "n = [\"Name1\",\"Name2\",\"Name3\"]\n",
    "r = [\"1234\",\"9asd0\",\"asd12\"]\n",
    "print(todict(n,r))"
   ]
  },
  {
   "cell_type": "markdown",
   "metadata": {},
   "source": [
    "### HA14. List of powers of 2\n",
    "print first 10 powers of two using list comprehension"
   ]
  },
  {
   "cell_type": "code",
   "execution_count": null,
   "metadata": {},
   "outputs": [],
   "source": [
    "#HA14. List of powers of 2\n",
    "#print first 10 powers of two using list comprehension\n",
    "print([2**x for x in range(10)])"
   ]
  },
  {
   "cell_type": "markdown",
   "metadata": {},
   "source": [
    "### HA15. Addition of elements\n",
    "Add elements in 2 list using map and lambda and print the list"
   ]
  },
  {
   "cell_type": "code",
   "execution_count": null,
   "metadata": {},
   "outputs": [],
   "source": [
    "# HA15. Addition of elements\n",
    "#Add elements in 2 list using map and lambda and print the list\n",
    "l1 = [1,2,3,4,5]\n",
    "l2 = [5,3,1,-1,-2]\n",
    "s = lambda x,y: x + y\n",
    "l3 = list(map(s,l1,l2))\n",
    "print(l3)"
   ]
  },
  {
   "cell_type": "markdown",
   "metadata": {},
   "source": [
    "### HA16.Second paragraph reading\n",
    "Read a text file and print the second paragraph from the file"
   ]
  },
  {
   "cell_type": "code",
   "execution_count": null,
   "metadata": {},
   "outputs": [],
   "source": [
    "# HA16.Second paragraph reading\n",
    "#Read a text file and print the second paragraph from the file\n",
    "fo = open(\"2ndpara.txt\",\"r\")\n",
    "s = (fo.read())\n",
    "fo.close()\n",
    "l = (s.split(\"\\n\\n\"))\n",
    "print(l[1])"
   ]
  },
  {
   "cell_type": "markdown",
   "metadata": {},
   "source": [
    "### HA17. Delay Error\n",
    "Add one line for 1 second delay in any code and handle any exception generated"
   ]
  },
  {
   "cell_type": "code",
   "execution_count": null,
   "metadata": {},
   "outputs": [],
   "source": [
    "# HA17. Delay Error\n",
    "#Add one line for 1 second delay in any code and handle any exception generated\n",
    "\n",
    "try:\n",
    "    time.sleep(3)\n",
    "    print([2**x for x in range(10)])\n",
    "except NameError:\n",
    "    print(\"NameError occured\")"
   ]
  },
  {
   "cell_type": "markdown",
   "metadata": {},
   "source": [
    "## HA-18 Simple Data Extraction\n",
    "open the sample python file from this link\n",
    "<br>https://tinyurl.com/pythontestfile\n",
    "<br>and check the following\n",
    "<br>1. number of imports and print their names\n",
    "<br>2. Number of functions and their names\n",
    "<br>3. Number of lines of codes inside each function\n",
    "<br>4. Number of for loops and while loop condition\n",
    "<br>5. no of if else conditions\n",
    "<br>print all this after reading file"
   ]
  },
  {
   "cell_type": "code",
   "execution_count": null,
   "metadata": {},
   "outputs": [],
   "source": [
    "#HA-18\n",
    "fo=open(\"pythontestfile.py\",\"r\")\n",
    "full_read=fo.readlines()\n",
    "imports=0\n",
    "importlist=[]\n",
    "defs=0\n",
    "deflist=[]\n",
    "fors=0\n",
    "whiles=0\n",
    "ifs=0\n",
    "for i in full_read:\n",
    "    i=i.split()\n",
    "    #print(i)\n",
    "    if(\"import\" in i):\n",
    "        importlist.append(i[1])\n",
    "        imports+=1\n",
    "    elif(\"def\" in i):\n",
    "        deflist.append(i[1].split('(')[0])\n",
    "        defs+=1\n",
    "    elif(\"for\" in i and i[0]==\"for\"):\n",
    "        fors+=1\n",
    "    elif(\"while\" in i and \"#\" not in i):\n",
    "        whiles+=1\n",
    "    elif(\"if\" in i and i[0]==\"if\" or \"elif\" in i and i[0]==\"elif\"):\n",
    "        ifs+=1\n",
    "print(\"number of imports is {0}  they are {1}\".format(imports,importlist))\n",
    "print(\"number of def is {0}  they are {1}\".format(defs,deflist))\n",
    "print(\"number of for is {0}\\nnumber of while are {1}\\nnumber of if is {2}\".format(fors,whiles,ifs))"
   ]
  },
  {
   "cell_type": "markdown",
   "metadata": {},
   "source": [
    "### HA19. Submatrix\n",
    "#Take a 3x3 matrix and print all four 2x2 submatrices using numpy"
   ]
  },
  {
   "cell_type": "code",
   "execution_count": null,
   "metadata": {},
   "outputs": [],
   "source": [
    "# HA19. Submatrix\n",
    "#Take a 3x3 matrix and print all four 2x2 submatrices using numpy\n",
    "import numpy as np\n",
    "a = np.array([[1,2,3],[4,5,6],[7,8,9]])\n",
    "print(a,\"\\n\")\n",
    "print(a[0:2,0:2],\"\\n\\n\",a[:2,1:],\"\\n\\n\",a[1:,0:2],\"\\n\\n\",a[1:,1:])"
   ]
  },
  {
   "cell_type": "markdown",
   "metadata": {},
   "source": [
    "### HA20. Random matrix addition\n",
    "#Take a 3x3 matrix and add it element-wise with another random  3x3 matrix using numpy"
   ]
  },
  {
   "cell_type": "code",
   "execution_count": null,
   "metadata": {},
   "outputs": [],
   "source": [
    "#HA20. Random matrix addition\n",
    "#Take a 3x3 matrix and add it element-wise with another random  3x3 matrix using numpy\n",
    "\n",
    "a = np.random.random((3,3))\n",
    "b = np.random.random((3,3))\n",
    "print(a,\"\\n\\n\",b,\"\\n\\n\",a+b)\n",
    "#print(np.add(a,b))"
   ]
  },
  {
   "cell_type": "markdown",
   "metadata": {},
   "source": [
    "### HA21. Operations on matrices\n",
    "Accept values of two 3x3 matrices from user and perform 4 element-wise arithmetic operations using numpy"
   ]
  },
  {
   "cell_type": "code",
   "execution_count": 18,
   "metadata": {},
   "outputs": [
    {
     "name": "stdout",
     "output_type": "stream",
     "text": [
      "Enter rows for Matrix 1\n",
      "Enter 1st row: 1 1 1\n",
      "Enter 2nd row: 2 2 2\n",
      "Enter 3rd row: 3 3 3\n",
      "Enter rows for Matrix 2\n",
      "Enter 1st row: 3 3 3\n",
      "Enter 2nd row: 2 2 2\n",
      "Enter 3rd row: 1 1 1\n",
      "\n",
      " [[3. 3. 3.]\n",
      " [2. 2. 2.]\n",
      " [1. 1. 1.]] \n",
      " [[1. 1. 1.]\n",
      " [2. 2. 2.]\n",
      " [3. 3. 3.]]\n",
      "Addition:\n",
      " [[4. 4. 4.]\n",
      " [4. 4. 4.]\n",
      " [4. 4. 4.]] \n",
      "\n",
      "\n",
      "Subtraction:\n",
      " [[ 2.  2.  2.]\n",
      " [ 0.  0.  0.]\n",
      " [-2. -2. -2.]] \n",
      "\n",
      "\n",
      "Multiplication:\n",
      " [[3. 3. 3.]\n",
      " [4. 4. 4.]\n",
      " [3. 3. 3.]] \n",
      "\n",
      "\n",
      "Division:\n",
      " [[3.         3.         3.        ]\n",
      " [1.         1.         1.        ]\n",
      " [0.33333333 0.33333333 0.33333333]]\n"
     ]
    }
   ],
   "source": [
    "#HA21. Operations on matrices\n",
    "#Accept values of two 3x3 matrices from user and perform 4 element-wise arithmetic operations using numpy\n",
    "import numpy as np\n",
    "try:\n",
    "    for i in range(2):\n",
    "        print(\"Enter rows for Matrix {}\".format(i+1))\n",
    "        a = list(map(float,input(\"Enter 1st row: \").split()))\n",
    "        b = list(map(float,input(\"Enter 2nd row: \").split()))\n",
    "        c = list(map(float,input(\"Enter 3rd row: \").split()))\n",
    "        if i==0:\n",
    "            n = np.array([a,b,c])\n",
    "        else:\n",
    "            m = np.array([a,b,c])\n",
    "    print(\"\\n\",m,\"\\n\\n\",n)\n",
    "    print(\"Addition:\\n\",(m+n),\"\\n\\n\")\n",
    "    print(\"Subtraction:\\n\",(m-n),\"\\n\\n\")\n",
    "    print(\"Multiplication:\\n\",(m*n),\"\\n\\n\")\n",
    "    print(\"Division:\\n\",(m/n))\n",
    "except ValueError:\n",
    "    print(\"Only numbers allowed\")"
   ]
  },
  {
   "cell_type": "markdown",
   "metadata": {},
   "source": [
    "### HA22. Plotting exponential curves\n",
    "Plot an exponential curve of powers ranging from 1 to 6 for 200 samples in a single graph.<br>\n",
    "Use different colours for each part"
   ]
  },
  {
   "cell_type": "code",
   "execution_count": 8,
   "metadata": {},
   "outputs": [
    {
     "data": {
      "image/png": "[encoded data removed]",
      "text/plain": [
       "<Figure size 432x288 with 6 Axes>"
      ]
     },
     "metadata": {},
     "output_type": "display_data"
    }
   ],
   "source": [
    "#HA22. Plotting exponential curves\n",
    "#Plot an exponential curve of powers ranging from 1 to 6 for 200 samples in a single graph.\n",
    "#Use different colours for each part\n",
    "import matplotlib\n",
    "import matplotlib.pyplot as plt\n",
    "import numpy as np\n",
    "from pylab import *\n",
    "\n",
    "x = np.linspace(1,10,200)\n",
    "y = 1**x\n",
    "figure()\n",
    "subplot(6,1,1)\n",
    "plot(x,y,'r')\n",
    "subplot(6,1,2)\n",
    "plot(x,2**x,'r')\n",
    "subplot(6,1,3)\n",
    "plot(x,3**x,'r')\n",
    "subplot(6,1,4)\n",
    "plot(x,4**x,'r')\n",
    "subplot(6,1,5)\n",
    "plot(x,5**x,'r')\n",
    "subplot(6,1,6)\n",
    "plot(x,6**x,'r')\n",
    "show() "
   ]
  },
  {
   "cell_type": "code",
   "execution_count": null,
   "metadata": {},
   "outputs": [],
   "source": []
  }
 ],
 "metadata": {
  "kernelspec": {
   "display_name": "Python 3",
   "language": "python",
   "name": "python3"
  },
  "language_info": {
   "codemirror_mode": {
    "name": "ipython",
    "version": 3
   },
   "file_extension": ".py",
   "mimetype": "text/x-python",
   "name": "python",
   "nbconvert_exporter": "python",
   "pygments_lexer": "ipython3",
   "version": "3.6.5"
  }
 },
 "nbformat": 4,
 "nbformat_minor": 2
}
