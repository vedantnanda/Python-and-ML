{
 "cells": [
  {
   "cell_type": "markdown",
   "metadata": {},
   "source": [
    "# Day 6 \n",
    "## Lab Session"
   ]
  },
  {
   "cell_type": "code",
   "execution_count": 186,
   "metadata": {},
   "outputs": [
    {
     "name": "stdout",
     "output_type": "stream",
     "text": [
      "Enter number of vegetable you want to enter: q\n"
     ]
    },
    {
     "ename": "ValueError",
     "evalue": "invalid literal for int() with base 10: 'q'",
     "output_type": "error",
     "traceback": [
      "\u001b[0;31m---------------------------------------------------------------------------\u001b[0m",
      "\u001b[0;31mValueError\u001b[0m                                Traceback (most recent call last)",
      "\u001b[0;32m<ipython-input-186-f36ce9087b05>\u001b[0m in \u001b[0;36m<module>\u001b[0;34m()\u001b[0m\n\u001b[1;32m     11\u001b[0m     \u001b[0;32mfor\u001b[0m \u001b[0mi\u001b[0m \u001b[0;32min\u001b[0m \u001b[0mgr\u001b[0m\u001b[0;34m:\u001b[0m\u001b[0;34m\u001b[0m\u001b[0m\n\u001b[1;32m     12\u001b[0m         \u001b[0mprint\u001b[0m\u001b[0;34m(\u001b[0m\u001b[0mi\u001b[0m\u001b[0;34m,\u001b[0m\u001b[0;34m\"\\t\\t\"\u001b[0m\u001b[0;34m,\u001b[0m\u001b[0mbag\u001b[0m\u001b[0;34m[\u001b[0m\u001b[0mi\u001b[0m\u001b[0;34m]\u001b[0m\u001b[0;34m,\u001b[0m\u001b[0;34m\"\\t\\t\"\u001b[0m\u001b[0;34m,\u001b[0m\u001b[0mgr\u001b[0m\u001b[0;34m[\u001b[0m\u001b[0mi\u001b[0m\u001b[0;34m]\u001b[0m\u001b[0;34m)\u001b[0m\u001b[0;34m\u001b[0m\u001b[0m\n\u001b[0;32m---> 13\u001b[0;31m \u001b[0mn\u001b[0m \u001b[0;34m=\u001b[0m \u001b[0mint\u001b[0m\u001b[0;34m(\u001b[0m\u001b[0minput\u001b[0m\u001b[0;34m(\u001b[0m\u001b[0;34m\"Enter number of vegetable you want to enter: \"\u001b[0m\u001b[0;34m)\u001b[0m\u001b[0;34m)\u001b[0m\u001b[0;34m\u001b[0m\u001b[0m\n\u001b[0m\u001b[1;32m     14\u001b[0m \u001b[0mprint\u001b[0m\u001b[0;34m(\u001b[0m\u001b[0;34m\"Enter vegetable and price per each with space in between: potato 5\"\u001b[0m\u001b[0;34m)\u001b[0m\u001b[0;34m\u001b[0m\u001b[0m\n\u001b[1;32m     15\u001b[0m \u001b[0md\u001b[0m \u001b[0;34m=\u001b[0m \u001b[0;34m{\u001b[0m\u001b[0;34m}\u001b[0m\u001b[0;34m\u001b[0m\u001b[0m\n",
      "\u001b[0;31mValueError\u001b[0m: invalid literal for int() with base 10: 'q'"
     ]
    }
   ],
   "source": [
    "#LA 20-\n",
    "#Create the grocery list in dictionary of name quantity and price.\n",
    "#keep updating the list till user stops.\n",
    "#if the name matches with previous  name, only update quantity with price.\n",
    "#Print the list. Check if the items are within budget. Ask amount initially.\n",
    "#if not keep updating the quantity, and use negative numbers to reduce quantity\n",
    "#finally print qrocery amount and balance amount left\n",
    "from typing import Dict\n",
    "def printing(gr,b):\n",
    "    print(\"Vegetable\\tQuantity\\tPrice\")\n",
    "    for i in gr:\n",
    "        print(i,\"\\t\\t\",bag[i],\"\\t\\t\",gr[i])\n",
    "n = int(input(\"Enter number of vegetable you want to enter: \"))\n",
    "print(\"Enter vegetable and price per each with space in between: potato 5\")\n",
    "d = {}\n",
    "for _ in range(n):\n",
    "    l = input(\"Enter the vegetable and price of it: \").split()\n",
    "    d[l[0]] = float(l[1])\n",
    "print(d)\n",
    "a = int(input(\"Enter your budget: \"))\n",
    "rm = a\n",
    "gr = {}\n",
    "bag = {}\n",
    "while(True):\n",
    "    #print(\"Enter what you want to buy/replace and how much quantity\")\n",
    "    l = input(\"Enter the vegetable and quantity of it: \").split()\n",
    "    if l[0] in d:\n",
    "        if rm==0 and float(l[1])>0:\n",
    "            print(\"No remaining balance\")\n",
    "        elif float(l[1])>0 and rm>0:\n",
    "            if l[0] in gr:\n",
    "                gr[l[0]]+=float(l[1])*d[l[0]]\n",
    "                bag[l[0]] += float(l[1])\n",
    "            else:\n",
    "                gr[l[0]] = float(l[1]) * d[l[0]]\n",
    "                bag[l[0]] = float(l[1])\n",
    "        else:\n",
    "            if float(l[1])>0 and rm<0:\n",
    "                print(\"Out of Budget, cannot Buy\")\n",
    "            else:\n",
    "                if l[0] not in bag:\n",
    "                    print(\"Item not in bag\")\n",
    "                else:\n",
    "                    if bag[l[0]]>=abs(int(l[1])):\n",
    "                        bag[l[0]] += float(l[1])\n",
    "                        gr[l[0]] += float(l[1])*d[l[0]]\n",
    "                    else:\n",
    "                        print(\"You do not have the quantity of {0} in your bag\".format(l[0]))\n",
    "    else:\n",
    "        print(\"Item not in shop, cannot buy!!\")\n",
    "    sum1 = 0\n",
    "    for x in gr:\n",
    "        sum1+=gr[x]\n",
    "    rm = a -  sum1\n",
    "    print(\"Remaining balance: \",rm)\n",
    "    #print(gr,bag)\n",
    "    printing(gr,bag)\n",
    "    b = input(\"Enter ~ to stop shopping else enter anything else to continue \")\n",
    "    if b==\"~\" and rm>=0:\n",
    "        break\n",
    "    elif b==\"~\" and rm<0:\n",
    "        print(\"Balance out of budget can't exit\")\n",
    "print(\"Grocery list: \",gr,\"\\nThanks for shopping!!\")"
   ]
  },
  {
   "cell_type": "code",
   "execution_count": null,
   "metadata": {},
   "outputs": [],
   "source": []
  },
  {
   "cell_type": "code",
   "execution_count": 7,
   "metadata": {},
   "outputs": [
    {
     "name": "stdout",
     "output_type": "stream",
     "text": [
      "Enter first Name: Vedant\n",
      "Enter roll no: 40\n",
      "College: ITER\n"
     ]
    }
   ],
   "source": [
    "#writing to a file\n",
    "fo = open(\"file1.txt\",\"w\")\n",
    "fo.write(\"Firstname: {0}\\nRoll no: {1}\\nCollege :{2}\".format(input(\"Enter first Name: \"),input(\"Enter roll no: \"),input(\"College: \")))\n",
    "fo.close()"
   ]
  },
  {
   "cell_type": "code",
   "execution_count": 9,
   "metadata": {},
   "outputs": [
    {
     "name": "stdout",
     "output_type": "stream",
     "text": [
      "Vedant\n",
      "\n"
     ]
    }
   ],
   "source": [
    "fo = open(\"file1.txt\",\"r\")\n",
    "s = fo.readlines()\n",
    "f = s[0].split(\" \")\n",
    "print(f[1])"
   ]
  },
  {
   "cell_type": "code",
   "execution_count": 94,
   "metadata": {},
   "outputs": [
    {
     "name": "stdout",
     "output_type": "stream",
     "text": [
      "[2, 3, 5, 7, 11, 13, 17, 19, 23, 29, 31, 37, 41, 43, 47, 53, 59, 61, 67, 71, 73, 79, 83, 89, 97]\n"
     ]
    }
   ],
   "source": [
    "#LA-21. Prime numbers using list comprehension\n",
    "#Print the prime numbers between 1 to 100 using list comprehension\n",
    "l = [z for z in range(2,101) if z not in [x for x in range(1,101) for y in range(1,x//2+1) if(x%y==0 and y!=1 and y!=x)]]\n",
    "print(l)\n",
    "fo = open(\"qLA-21.txt\",\"w\")\n",
    "fo.write(l)\n",
    "fo.close()"
   ]
  },
  {
   "cell_type": "code",
   "execution_count": 71,
   "metadata": {},
   "outputs": [
    {
     "name": "stdout",
     "output_type": "stream",
     "text": [
      "Number of 'apple' in file:  10\n"
     ]
    }
   ],
   "source": [
    "#LA-22. Number of occurances\n",
    "#Read LotsOfwWrds.txt file and print the number of occurrences of the word \"apple\"\n",
    "fo = open(\"LotsOfWords.txt\",\"r\")\n",
    "l = fo.read().split()\n",
    "c = 0\n",
    "chk = [\"apple\",\"apple.\",\"apple,\",\"'apple'\",\"apple?\",\"apple!\",'\"apple\"']\n",
    "for i in l:\n",
    "    if i in chk:\n",
    "        c+=1\n",
    "print(\"Number of 'apple' in file: \",c)"
   ]
  },
  {
   "cell_type": "code",
   "execution_count": 178,
   "metadata": {},
   "outputs": [
    {
     "name": "stdout",
     "output_type": "stream",
     "text": [
      "Rnter number of numbers you want to enter: 5\n",
      "Enter number(q to stop and show sum):1\n",
      "Enter number(q to stop and show sum):0\n",
      "Zero not allowed!\n",
      "Enter number(q to stop and show sum):2\n",
      "Enter number(q to stop and show sum):0\n",
      "Zero not allowed!\n",
      "Enter number(q to stop and show sum):5\n",
      "[1.0, 0.5, 0.2] \n",
      "Sum of all inverse:  1.7\n"
     ]
    }
   ],
   "source": [
    "# LA-23 Inverse of numbers to take numbers from user and store them to a list.\n",
    "#Then add the inverse of all numbers and print sum\n",
    "li = []\n",
    "sum = 0.0\n",
    "m = int(input(\"Rnter number of numbers you want to enter: \"))\n",
    "for i in range(m):   \n",
    "    n = (input(\"Enter number(q to stop and show sum):\"))\n",
    "    if n==\"q\":\n",
    "        break\n",
    "    else:\n",
    "        n=float(n)\n",
    "    try:\n",
    "        li.append(1/n)\n",
    "        sum += 1/n\n",
    "    except ZeroDivisionError:\n",
    "        print(\"Zero not allowed!\")\n",
    "print(li,\"\\nSum of all inverse: \",sum)"
   ]
  },
  {
   "cell_type": "code",
   "execution_count": 167,
   "metadata": {},
   "outputs": [],
   "source": [
    "#LA-24. Certificate\n",
    "#One file contains details of student line Name, Roll number, Class and percentage.\n",
    "#Another text file contains the sdample certificate printing data.\n",
    "#Replace the sample copy with student details and keep a separate copy\n",
    "#for all students who are in class 10 and have scored above 40%\n",
    "\n",
    "try:\n",
    "    fo = open(\"stulist.txt\",\"r\")\n",
    "    l = fo.read()\n",
    "    fo.close()\n",
    "    ll = list(map(str,l.split(\"\\n\")))\n",
    "    f1 = open(\"samplecertificate.txt\",\"r\")\n",
    "    s = str(f1.read())\n",
    "    f1.close()\n",
    "    k = 1\n",
    "    li = []\n",
    "    lj = []\n",
    "    for j in range(len(ll)):\n",
    "        li.append(ll[j].split())\n",
    "    for i in li:\n",
    "        if i!=[] and int(i[2]) == 10 and float(i[3]) >=40 and k<len(li):\n",
    "            c = \"certificate{0}.txt\".format(k)\n",
    "            f2 = open(c,\"w\")\n",
    "            f2.write(s.format(i[0],i[2],i[1],i[3]))\n",
    "            f2.close()\n",
    "            k +=1\n",
    "except Exception as e:\n",
    "    print(\"Eception Occured: \",e)"
   ]
  },
  {
   "cell_type": "code",
   "execution_count": 174,
   "metadata": {},
   "outputs": [
    {
     "name": "stdout",
     "output_type": "stream",
     "text": [
      "Enter name for which you want to set password: alpha\n",
      "Enter password: sadsadasd\n",
      "No capital letter present\n",
      "No number present\n",
      "No special character present\n",
      "Try again, Attempt -> 2: \n",
      "Enter password: asdsa23\n",
      "No capital letter present\n",
      "No special character present\n",
      "Try again, Attempt -> 3: \n",
      "Enter password: sadQW2130)\n",
      "password set\n",
      "{'alpha': 'sadQW2130)'}\n"
     ]
    }
   ],
   "source": [
    "# LA18 Password Assignment\n",
    "# WAP to check the validity of password and assign it to the user.\n",
    "# Following are the criteria for checking the password:\n",
    "# -At least 1 small character\n",
    "# -At least 1 number\n",
    "# -At least 1 special character\n",
    "# -Min Length: 6\n",
    "# -Max Length: 12\n",
    "# Your program should accept a username from user and check if it is present in the predeclared list.\n",
    "# If it is present, ask user for a password, assign it after checking validity and store it as a dictionary of username\n",
    "def passetter():\n",
    "    for i in range(3):\n",
    "        cc = 0\n",
    "        x = False\n",
    "        sm = False\n",
    "        cap = False\n",
    "        num = False\n",
    "        le = False\n",
    "        p = str(input(\"Enter password: \"))\n",
    "        if (len(p) < 6 or len(p) > 12):\n",
    "            print(\"length not in range(6-12)\")\n",
    "        else:\n",
    "            for j in p:\n",
    "                cc += 1\n",
    "                if len(p) > 6 or len(p) < 12:\n",
    "                    le = True\n",
    "                t2 = ord(j)\n",
    "                if (t2 >= 97 and t2 <= 122):\n",
    "                    sm = True\n",
    "                elif (t2 >= 65 and t2 <= 90):\n",
    "                    cap = True\n",
    "                elif (t2 >= 48 and t2 <= 57):\n",
    "                    num = True\n",
    "                elif (t2>0 and t2<127):\n",
    "                    x = True\n",
    "                if (cc == len(p)):\n",
    "                    if (sm == False):\n",
    "                        print(\"No small Letter present\")\n",
    "                    if (cap == False):\n",
    "                        print(\"No capital letter present\")\n",
    "                    if (num == False):\n",
    "                        print(\"No number present\")\n",
    "                    if (x == False):\n",
    "                        print(\"No special character present\")\n",
    "                if (x and sm and cap and num and le):\n",
    "                    return p\n",
    "        if i != 2:\n",
    "            print(\"Try again, Attempt -> {0}: \".format(i+2))\n",
    "        if i == 2:\n",
    "            return False\n",
    "names = [\"alpha\", \"beta\", \"charlie\", \"delta\", \"echo\", \"foxtrot\"]\n",
    "d2 = {}\n",
    "nam = str(input(\"Enter name for which you want to set password: \"))\n",
    "if nam in names:\n",
    "    pp = passetter()\n",
    "    if type(pp) == bool:\n",
    "        print(\"Password not set\")\n",
    "    else:\n",
    "        d2[nam] = pp\n",
    "        print(\"password set\")\n",
    "        print(d2)\n",
    "else:\n",
    "    print(\"Name not found\")"
   ]
  },
  {
   "cell_type": "code",
   "execution_count": 175,
   "metadata": {},
   "outputs": [
    {
     "name": "stdout",
     "output_type": "stream",
     "text": [
      "Enter size of matrix1: 2 2\n",
      "Enter size of matrix2: 2 2\n",
      "for 1st matrix enter value at poisition00 1\n",
      "for 1st matrix enter value at poisition01 0\n",
      "for 1st matrix enter value at poisition10 0\n",
      "for 1st matrix enter value at poisition11 1\n",
      "for 2nd matrix enter value at poisition00 1\n",
      "for 2nd matrix enter value at poisition01 0\n",
      "for 2nd matrix enter value at poisition10 0\n",
      "for 2nd matrix enter value at poisition11 1\n",
      "[[1, 0], [0, 1]]\n"
     ]
    }
   ],
   "source": [
    "#LA19 Matrix Multiplication\n",
    "#Write a program to take input for two matrices and perform multiplication on them\n",
    "#print the resultant matrix\n",
    "x1 = input(\"Enter size of matrix1: \").split()\n",
    "x2 = input(\"Enter size of matrix2: \").split()\n",
    "if x1[1] != x2[0]:\n",
    "    print(\"Matrix multiplication not possible\")\n",
    "else:\n",
    "    m1,m2,m3 =[],[],[]\n",
    "    for i in range(int(x1[0])):\n",
    "        m1.append((\"0 \"*int(x1[1])).split())\n",
    "    for i in range(int(x2[0])):\n",
    "        m2.append((\"0 \"*int(x2[1])).split())\n",
    "    for i in range(int(x1[0])):\n",
    "        m3.append((\"0 \"*int(x2[1])).split())\n",
    "    for i in range(int(x1[0])):\n",
    "        for j in range(int(x1[1])):\n",
    "            m1[i][j]=int(input(\"for 1st matrix enter value at poisition{0}{1} \".format(i,j)))\n",
    "    for i in range(int(x2[0])):\n",
    "        for j in range(int(x2[1])):\n",
    "            m2[i][j]=int(input(\"for 2nd matrix enter value at poisition{0}{1} \".format(i,j)))\n",
    "    sum = 0\n",
    "    for i in range(int(x1[0])):\n",
    "        for j in range(int(x2[1])):\n",
    "            for k in range(int(x2[0])):\n",
    "                sum = sum + m1[i][k]*m2[k][j]\n",
    "            m3[i][j] = sum\n",
    "            sum = 0\n",
    "    print(m3)"
   ]
  },
  {
   "cell_type": "markdown",
   "metadata": {},
   "source": [
    "### LA-25. Identity matrix Generation\n",
    "Take a number representing orderof a matrix from the user and<br>create an identity matrix of that ordser using list comprehension"
   ]
  },
  {
   "cell_type": "code",
   "execution_count": 38,
   "metadata": {},
   "outputs": [
    {
     "name": "stdout",
     "output_type": "stream",
     "text": [
      "Enter size of matrix:  5\n",
      "1 0 0 0 0 \n",
      "\n",
      "0 1 0 0 0 \n",
      "\n",
      "0 0 1 0 0 \n",
      "\n",
      "0 0 0 1 0 \n",
      "\n",
      "0 0 0 0 1 \n",
      "\n"
     ]
    }
   ],
   "source": [
    "n = int(input(\"Enter size of matrix:  \"))\n",
    "for i in range(n):\n",
    "    for j in range(n):\n",
    "        if i==j:\n",
    "            print(\"1 \",end=\"\")\n",
    "        else:\n",
    "            print(\"0 \",end=\"\")\n",
    "    print(\"\\n\")"
   ]
  },
  {
   "cell_type": "markdown",
   "metadata": {},
   "source": [
    "### LA-26. Income Tax Calculation\n",
    "Write a code to calculate income tax of people.<br>\n",
    "taxfile1.txt contains name and income of users of 1st month.<br>\n",
    "Similar files exist for next 2 months with name order changed.<br>\n",
    "rate.txt contains tax rates as follows:<br>\n",
    "upto Rs2,50,500 no Tax<br>\n",
    "Rs. 2,50,500 - Rs. 5,00,000 5%<br>\n",
    "Rs. 5,00,000 - Rs. 10,00,000 20%<br>\n",
    "Rs. 10,00,000 and beyond 30%<br>"
   ]
  },
  {
   "cell_type": "markdown",
   "metadata": {},
   "source": [
    "### HA13.List to dictionary mapping<br>\n",
    "map 2 list, one with student name and other with roll number and save it as a dictionary.<br>\n",
    "the output on should be:<br>\n",
    "{\"Name1\":'12a1234',\"Name2\":'3456'}"
   ]
  },
  {
   "cell_type": "code",
   "execution_count": 45,
   "metadata": {},
   "outputs": [
    {
     "name": "stdout",
     "output_type": "stream",
     "text": [
      "{'Name1': '1234', 'Name2': '9asd0', 'Name3': 'asd12'}\n"
     ]
    }
   ],
   "source": [
    "#HA13.List to dictionary mapping\n",
    "#map 2 list, one with student name and other with roll number and save it as a dictionary.\n",
    "#the output on should be:\n",
    "#{\"Name1\":'12a1234',\"Name2\":'3456'}\n",
    "di = {}\n",
    "def todict(n,a):\n",
    "    for i in range(len(n)):\n",
    "        di[n[i]]=a[i]\n",
    "    return di\n",
    "n = [\"Name1\",\"Name2\",\"Name3\"]\n",
    "r = [\"1234\",\"9asd0\",\"asd12\"]\n",
    "print(todict(n,r))"
   ]
  },
  {
   "cell_type": "markdown",
   "metadata": {},
   "source": [
    "## HA14. List of powers of 2<br>\n",
    "print first 10 powers of two using list comprehension"
   ]
  },
  {
   "cell_type": "code",
   "execution_count": 9,
   "metadata": {},
   "outputs": [
    {
     "name": "stdout",
     "output_type": "stream",
     "text": [
      "[1, 2, 4, 8, 16, 32, 64, 128, 256, 512]\n"
     ]
    }
   ],
   "source": [
    "#HA14. List of powers of 2\n",
    "#print first 10 powers of two using list comprehension\n",
    "print([2**x for x in range(10)])"
   ]
  },
  {
   "cell_type": "markdown",
   "metadata": {},
   "source": [
    "### HA15. Addition of elements<br>\n",
    "Add elements in 2 list using map and lambda and print the list"
   ]
  },
  {
   "cell_type": "code",
   "execution_count": 37,
   "metadata": {},
   "outputs": [
    {
     "name": "stdout",
     "output_type": "stream",
     "text": [
      "[6, 5, 4, 3, 3]\n"
     ]
    }
   ],
   "source": [
    "# HA15. Addition of elements\n",
    "#Add elements in 2 list using map and lambda and print the list\n",
    "l1 = [1,2,3,4,5]\n",
    "l2 = [5,3,1,-1,-2]\n",
    "s = lambda x,y: x + y\n",
    "l3 = list(map(s,l1,l2))\n",
    "print(l3)"
   ]
  },
  {
   "cell_type": "markdown",
   "metadata": {},
   "source": [
    "### HA16.Second paragraph reading<br>\n",
    "Read a text file and print the second paragraph from the file"
   ]
  },
  {
   "cell_type": "code",
   "execution_count": 24,
   "metadata": {},
   "outputs": [
    {
     "name": "stdout",
     "output_type": "stream",
     "text": [
      "this is second paragraph line 1.this is second paragraph line 2.this is second paragraph line 3.this is second paragraph line 4.this is second paragraph line 5.this is second paragraph line 6.this is second paragraph line 7.this is second paragraph line 8.this is second paragraph line 9.this is second paragraph line 10.this is second paragraph line 11.\n"
     ]
    }
   ],
   "source": [
    "# HA16.Second paragraph reading\n",
    "#Read a text file and print the second paragraph from the file\n",
    "fo = open(\"2ndpara.txt\",\"r\")\n",
    "s = (fo.read())\n",
    "fo.close()\n",
    "l = (s.split(\"\\n\\n\"))\n",
    "print(l[1])"
   ]
  },
  {
   "cell_type": "markdown",
   "metadata": {},
   "source": [
    "### HA17. Delay Error<br>\n",
    "Add one line for 1 second delay in any code and handle any exception generated"
   ]
  },
  {
   "cell_type": "code",
   "execution_count": 31,
   "metadata": {},
   "outputs": [
    {
     "name": "stdout",
     "output_type": "stream",
     "text": [
      "[1, 2, 4, 8, 16, 32, 64, 128, 256, 512]\n"
     ]
    }
   ],
   "source": [
    "# HA17. Delay Error\n",
    "#Add one line for 1 second delay in any code and handle any exception generated\n",
    "\n",
    "import time\n",
    "time.sleep(1)\n",
    "print([2**x for x in range(10)])"
   ]
  }
 ],
 "metadata": {
  "kernelspec": {
   "display_name": "Python 3",
   "language": "python",
   "name": "python3"
  },
  "language_info": {
   "codemirror_mode": {
    "name": "ipython",
    "version": 3
   },
   "file_extension": ".py",
   "mimetype": "text/x-python",
   "name": "python",
   "nbconvert_exporter": "python",
   "pygments_lexer": "ipython3",
   "version": "3.6.5"
  }
 },
 "nbformat": 4,
 "nbformat_minor": 2
}
