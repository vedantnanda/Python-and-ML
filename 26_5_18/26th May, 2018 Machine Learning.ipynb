{
 "cells": [
  {
   "cell_type": "markdown",
   "metadata": {},
   "source": [
    "# Machine Learning"
   ]
  },
  {
   "cell_type": "markdown",
   "metadata": {},
   "source": [
    "1. The machine learing is the feild of study<br>\n",
    "   to give ability to a machine to learn without being explicitily programmed<br><br>\n",
    "2. The ability of a machine to improve its performance based on previous results.\n"
   ]
  },
  {
   "cell_type": "markdown",
   "metadata": {},
   "source": [
    "### Formal Definitaion:\n",
    "The program can be said to learn from experience **E**<br>\n",
    "with respect to some class of tasks **T** and performance measure **P**,<br>\n",
    "if its perforamce at tasks in **T**, as measured by **P**, improves with experience **E**.\n",
    "<pre>                                                     -Tom Mitchell</pre>"
   ]
  },
  {
   "cell_type": "markdown",
   "metadata": {},
   "source": [
    "### Features of ML Algorithm\n",
    "- Getting better at certain task with time.\n",
    "- The act of remembering experience.\n",
    "- Exploiting generalization similarity\n",
    "- Learning with adaptation."
   ]
  },
  {
   "cell_type": "markdown",
   "metadata": {},
   "source": [
    "## Spam email detection\n",
    "- **Task** - to detect spam email\n",
    "- **Performance** - to tag a mail as spam\n",
    "- **Experience** - to learn from number of times mail is tagged as email"
   ]
  },
  {
   "cell_type": "markdown",
   "metadata": {},
   "source": [
    "- Spam email contains some specific keywords(like us, tweet, join today, offers, etc.)\n",
    "- Emails without specific text, which has been marked as spam"
   ]
  },
  {
   "cell_type": "markdown",
   "metadata": {},
   "source": [
    "## Application\n",
    "- Association Analysis\n",
    "- Supervised Learning\n",
    "  - Classification\n",
    "  - Regression/Prediction\n",
    "- Unsupervised Learning\n",
    "- Reinforcement Learning(Semi-Supervised)"
   ]
  },
  {
   "cell_type": "markdown",
   "metadata": {},
   "source": [
    "**Unsupervised Learning:** Used when we dont know what to expect out of data"
   ]
  },
  {
   "cell_type": "markdown",
   "metadata": {},
   "source": [
    "## Machine Learning vs Statistical Analysis\n",
    "<pre>\n",
    "<b>Machine Learning</b> is an algorithm                       <b>Statistical modelling</b> is the formalization\n",
    "that can learn from data without relying               of relationships between variables in the form of \n",
    "on rules-based programming                             mathematical equations\n",
    "</pre>"
   ]
  },
  {
   "cell_type": "markdown",
   "metadata": {},
   "source": [
    "## Where it is used\n",
    "- Face recognition\n",
    "- speech recognizition\n",
    "- handwriting recognition\n",
    "\n",
    "\n",
    "#### Real life Examples\n",
    "- facebook people you may know\n",
    "- product recommendation\n",
    "- virtual Assistants"
   ]
  },
  {
   "cell_type": "markdown",
   "metadata": {},
   "source": [
    "## Association Analysis\n",
    "- Simplest Form of analysis\n",
    "- Given a set of transactions, find results that will predict \n",
    "  the occurance of an item based on the occurances of other items  in the transaction\n",
    "<br><br>\n",
    "#### Market Basket Analysis\n",
    "<pre>\n",
    "Record    Items Bought\n",
    "1         bread, milk\n",
    "2         bread, diaper, beer,egg\n",
    "3         milk, diaper, beer, cola\n",
    "4         bread, milk, diaper, beer\n",
    "5         bread, milk, diaper, cola\n",
    "</pre>"
   ]
  },
  {
   "cell_type": "markdown",
   "metadata": {},
   "source": [
    "### Association Rule\n",
    "- AN impllication expression of the form X-> Y<br>\n",
    "  where X and Y are itemset.\n",
    "- Example<br>\n",
    "  {milk,diaper}-> beer"
   ]
  },
  {
   "cell_type": "markdown",
   "metadata": {},
   "source": [
    "### Rule Evaluation Matrix\n",
    "- Support(s)\n",
    "- Confidence(c)"
   ]
  },
  {
   "cell_type": "markdown",
   "metadata": {},
   "source": [
    "## Association Model\n"
   ]
  },
  {
   "cell_type": "markdown",
   "metadata": {},
   "source": [
    "## Market basket analysis aims to give answers to the follwing:\n",
    "- what are the purchase items?(items puirchased together/sequentially/seasonally)\n",
    "- which product might benefit from advertising?\n",
    "- why do customers buy certain products?\n",
    "- what time of the day do they buy it?\n",
    "- who are the customers?(students,families)"
   ]
  },
  {
   "cell_type": "markdown",
   "metadata": {},
   "source": []
  },
  {
   "cell_type": "code",
   "execution_count": 5,
   "metadata": {},
   "outputs": [],
   "source": [
    "import pandas as pd\n",
    "from mlxtend.preprocessing import TransactionEncoder\n",
    "from mlxtend.frequent_patterns import apriori\n",
    "\n",
    "dataset = [[\"Bread\", \"Milk\",\"Beer\"],\n",
    "          [\"Bread\",\"Diapers\",\"Eggs\"],\n",
    "          [\"Milk\",\"Diapers\",\"Beer\",\"Cola\"],\n",
    "          [\"Bread\",\"Milk\",\"Diapers\",\"Beer\"],\n",
    "          [\"Bread\",\"Milk\",\"Cola\"]]"
   ]
  },
  {
   "cell_type": "code",
   "execution_count": 8,
   "metadata": {},
   "outputs": [
    {
     "name": "stdout",
     "output_type": "stream",
     "text": [
      "['Beer', 'Bread', 'Cola', 'Diapers', 'Eggs', 'Milk']\n",
      "[[ True  True False False False  True]\n",
      " [False  True False  True  True False]\n",
      " [ True False  True  True False  True]\n",
      " [ True  True False  True False  True]\n",
      " [False  True  True False False  True]]\n",
      "   support       itemsets\n",
      "0      0.6         [Beer]\n",
      "1      0.8        [Bread]\n",
      "2      0.6      [Diapers]\n",
      "3      0.8         [Milk]\n",
      "4      0.6   [Beer, Milk]\n",
      "5      0.6  [Bread, Milk]\n",
      "  antecedants consequents  antecedent support  consequent support  support  \\\n",
      "0      (Beer)      (Milk)                 0.6                 0.8      0.6   \n",
      "1      (Milk)      (Beer)                 0.8                 0.6      0.6   \n",
      "2     (Bread)      (Milk)                 0.8                 0.8      0.6   \n",
      "3      (Milk)     (Bread)                 0.8                 0.8      0.6   \n",
      "\n",
      "   confidence    lift  leverage  conviction  \n",
      "0        1.00  1.2500      0.12         inf  \n",
      "1        0.75  1.2500      0.12    1.600000  \n",
      "2        0.75  0.9375     -0.04    0.800000  \n",
      "3        0.75  0.9375     -0.04    0.800000  \n"
     ]
    }
   ],
   "source": [
    "te = TransactionEncoder()\n",
    "te = te.fit(dataset) #extracts all the unique data from dataset\n",
    "te_ary = te.transform(dataset)\n",
    "print(te.columns_)\n",
    "print(te_ary)\n",
    "\n",
    "df = pd.DataFrame(te_ary,columns  = te.columns_)\n",
    "\n",
    "frequent_itemsets = apriori(df,min_support=0.6,use_colnames = True)\n",
    "print(frequent_itemsets)\n",
    "\n",
    "\n",
    "from mlxtend.frequent_patterns import association_rules\n",
    "rules = association_rules(frequent_itemsets,metric=\"support\",min_threshold=0.5)\n",
    "\n",
    "print(rules)"
   ]
  },
  {
   "cell_type": "markdown",
   "metadata": {},
   "source": []
  },
  {
   "cell_type": "code",
   "execution_count": null,
   "metadata": {},
   "outputs": [],
   "source": []
  },
  {
   "cell_type": "code",
   "execution_count": null,
   "metadata": {},
   "outputs": [],
   "source": []
  },
  {
   "cell_type": "code",
   "execution_count": null,
   "metadata": {},
   "outputs": [],
   "source": []
  },
  {
   "cell_type": "code",
   "execution_count": null,
   "metadata": {},
   "outputs": [],
   "source": []
  },
  {
   "cell_type": "code",
   "execution_count": null,
   "metadata": {},
   "outputs": [],
   "source": []
  },
  {
   "cell_type": "code",
   "execution_count": null,
   "metadata": {},
   "outputs": [],
   "source": []
  },
  {
   "cell_type": "code",
   "execution_count": null,
   "metadata": {},
   "outputs": [],
   "source": []
  },
  {
   "cell_type": "code",
   "execution_count": null,
   "metadata": {},
   "outputs": [],
   "source": []
  },
  {
   "cell_type": "code",
   "execution_count": null,
   "metadata": {},
   "outputs": [],
   "source": []
  }
 ],
 "metadata": {
  "kernelspec": {
   "display_name": "Python 3",
   "language": "python",
   "name": "python3"
  },
  "language_info": {
   "codemirror_mode": {
    "name": "ipython",
    "version": 3
   },
   "file_extension": ".py",
   "mimetype": "text/x-python",
   "name": "python",
   "nbconvert_exporter": "python",
   "pygments_lexer": "ipython3",
   "version": "3.6.5"
  }
 },
 "nbformat": 4,
 "nbformat_minor": 2
}
