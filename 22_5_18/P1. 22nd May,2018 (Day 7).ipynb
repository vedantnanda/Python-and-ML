{
 "cells": [
  {
   "cell_type": "markdown",
   "metadata": {},
   "source": [
    "# numpy"
   ]
  },
  {
   "cell_type": "markdown",
   "metadata": {},
   "source": [
    "### Numpy\n",
    "#### Numerical Python\n",
    "To install numpy use the following<br>\n",
    "$sudo pip3.6 install numpy\n",
    "\n"
   ]
  },
  {
   "cell_type": "code",
   "execution_count": 1,
   "metadata": {},
   "outputs": [],
   "source": [
    "import numpy"
   ]
  },
  {
   "cell_type": "code",
   "execution_count": 2,
   "metadata": {},
   "outputs": [
    {
     "name": "stdout",
     "output_type": "stream",
     "text": [
      "<class 'numpy.ndarray'>\n",
      "(3,)\n",
      "1 2 3\n",
      "[5 2 3]\n"
     ]
    }
   ],
   "source": [
    "#array basics\n",
    "import numpy as np\n",
    "a = np.array([1,2,3]) #Create a rank one array\n",
    "print(type(a)) #Prints \"<class 'numpy.ndarray'>\"\n",
    "print(a.shape) #Prints \"(3,)\" #rows vs columns\n",
    "print(a[0],a[1],a[2]) #prints 1 2 3\n",
    "a[0] = 5 #change an element of an array\n",
    "print(a) #prints \"[5, 2, 3]\""
   ]
  },
  {
   "cell_type": "code",
   "execution_count": 13,
   "metadata": {},
   "outputs": [
    {
     "name": "stdout",
     "output_type": "stream",
     "text": [
      "(3,)\n",
      "(3, 1)\n",
      "[1 2 3] \n",
      " [[1]\n",
      " [2]\n",
      " [3]]\n"
     ]
    }
   ],
   "source": [
    "#1 row 3 colums\n",
    "a = np.array([1,2,3])\n",
    "print(a.shape)\n",
    "\n",
    "#3 rows 1 colums\n",
    "d = np.array([[1],[2],[3]])\n",
    "print(d.shape)\n",
    "print(a,\"\\n\",d)"
   ]
  },
  {
   "cell_type": "code",
   "execution_count": 10,
   "metadata": {},
   "outputs": [
    {
     "name": "stdout",
     "output_type": "stream",
     "text": [
      "(2, 3)\n",
      "1 2 4\n"
     ]
    }
   ],
   "source": [
    "#another example\n",
    "b = np.array([[1,2,3],[4,5,6]]) #Create rank 2 array\n",
    "print(b.shape) # Prints (2, 3)\n",
    "print(b[0,0],b[0,1],b[1,0]) #prints \"1 2 4\""
   ]
  },
  {
   "cell_type": "code",
   "execution_count": 16,
   "metadata": {},
   "outputs": [
    {
     "name": "stdout",
     "output_type": "stream",
     "text": [
      "[[1 2 3]\n",
      " [3 4 5]\n",
      " [7 8 9]]\n",
      "2 4 9\n"
     ]
    }
   ],
   "source": [
    "#create numpy array from list\n",
    "list1 = [[1,2,3],[3,4,5],[7,8,9]]\n",
    "c = np.array(list1)\n",
    "print(c)\n",
    "print(c[0,1],c[1,1],c[2,2])"
   ]
  },
  {
   "cell_type": "markdown",
   "metadata": {},
   "source": [
    "#### Numpy also provides functions to create arrays"
   ]
  },
  {
   "cell_type": "code",
   "execution_count": 23,
   "metadata": {},
   "outputs": [
    {
     "name": "stdout",
     "output_type": "stream",
     "text": [
      "[[0. 0.]\n",
      " [0. 0.]]\n",
      "<class 'numpy.float64'>\n",
      "[[1. 1.]]\n",
      "<class 'numpy.float64'>\n",
      "[[7 7]\n",
      " [7 7]]\n",
      "<class 'numpy.int64'>\n"
     ]
    }
   ],
   "source": [
    "import numpy as np\n",
    "\n",
    "a = np.zeros((2,2)) #Create an array of all zeroes\n",
    "print(a) #prints \"[[0. 0.]\"\n",
    "           #      [0. 0.]]\n",
    "print(type(a[0,0])) #prints \"<class 'numpy.float64'>\"\n",
    "\n",
    "\n",
    "b = np.ones((1,2)) #Create an array of all ones\n",
    "print(b) #Prints \"[[1. 1.]]\"\n",
    "print(type(b[0,1])) #prints \"<class 'numpy.float64'>\"\n",
    "\n",
    "\n",
    "c = np.full((2,2),7) #create a constant array \n",
    "print(c) #prints \"[[7 7]\n",
    "        #         [7 7]]\"\n",
    "print(type(c[1,1])) #Prints \"<class 'numpy.int64'>\"\n",
    "\n"
   ]
  },
  {
   "cell_type": "code",
   "execution_count": 31,
   "metadata": {},
   "outputs": [
    {
     "name": "stdout",
     "output_type": "stream",
     "text": [
      "[[0. 0. 0.]\n",
      " [0. 0. 0.]\n",
      " [0. 0. 0.]\n",
      " [0. 0. 0.]] \n",
      "\n",
      "[[1. 1. 1.]\n",
      " [1. 1. 1.]\n",
      " [1. 1. 1.]\n",
      " [1. 1. 1.]] \n",
      "\n",
      "[[8.5 8.5 8.5]\n",
      " [8.5 8.5 8.5]\n",
      " [8.5 8.5 8.5]\n",
      " [8.5 8.5 8.5]]\n",
      "[[1. 0.]\n",
      " [0. 1.]]\n"
     ]
    }
   ],
   "source": [
    "#Create a zeroes array of size - 4 by 3\n",
    "#Create a ones array of size - 4 by 3\n",
    "#Create a constant array of size - 4 by 3 - 8.5\n",
    "\n",
    "d = np.zeros((4,3))\n",
    "print(d,\"\\n\")\n",
    "\n",
    "e = np.ones((4,3))\n",
    "print(e,\"\\n\")\n",
    "\n",
    "f = np.full((4,3),8.5)\n",
    "print(f)\n"
   ]
  },
  {
   "cell_type": "code",
   "execution_count": 34,
   "metadata": {},
   "outputs": [
    {
     "name": "stdout",
     "output_type": "stream",
     "text": [
      "[[1. 0. 0.]\n",
      " [0. 1. 0.]\n",
      " [0. 0. 1.]]\n"
     ]
    }
   ],
   "source": [
    "#Ideniity Matrix\n",
    "g = np.eye(3) #create a 2x2 identity matrix\n",
    "print(g) #print \"[[1. 0. 0.]\n",
    "        #        [0. 1. 0.]\n",
    "         #      [0. 0. 1.]]\""
   ]
  },
  {
   "cell_type": "markdown",
   "metadata": {},
   "source": [
    "## Identity matrix"
   ]
  },
  {
   "cell_type": "code",
   "execution_count": 36,
   "metadata": {},
   "outputs": [
    {
     "name": "stdout",
     "output_type": "stream",
     "text": [
      "[[1. 0. 0. 0.]\n",
      " [0. 1. 0. 0.]\n",
      " [0. 0. 1. 0.]\n",
      " [0. 0. 0. 1.]]\n"
     ]
    }
   ],
   "source": [
    "#Create Identity array of size 4x4\n",
    "h = np.eye(4)\n",
    "print(h)"
   ]
  },
  {
   "cell_type": "markdown",
   "metadata": {},
   "source": [
    "## Random Matrix"
   ]
  },
  {
   "cell_type": "code",
   "execution_count": 42,
   "metadata": {},
   "outputs": [
    {
     "name": "stdout",
     "output_type": "stream",
     "text": [
      "[[0.0580711  0.98702674]\n",
      " [0.16612315 0.29033032]] \n",
      "\n",
      "[[0.74233676 0.54022311 0.62493353 0.96602787]\n",
      " [0.49546487 0.32031372 0.210662   0.25086585]\n",
      " [0.54083309 0.7940969  0.31425488 0.12751547]]\n"
     ]
    }
   ],
   "source": [
    "#create an array filled with random numbers\n",
    "i = np.random.random((2,2))\n",
    "print(i,\"\\n\") #prints 2x2 random elements\n",
    "\n",
    "#create arandom matrix of 3 by 4\n",
    "j = np.random.random((3,4))\n",
    "print(j)"
   ]
  },
  {
   "cell_type": "markdown",
   "metadata": {},
   "source": [
    "## Array Indexing\n",
    "Numpy offers several ways to index into arrays\n",
    "\n",
    "Slicing: Similar to python lists, numpy arrays can be sliced.<br>\n",
    "Since arrays mat be multidimensional, you must specify a slice for each dimension of the array"
   ]
  },
  {
   "cell_type": "code",
   "execution_count": 54,
   "metadata": {},
   "outputs": [
    {
     "name": "stdout",
     "output_type": "stream",
     "text": [
      "[[ 1  2  3  4]\n",
      " [ 5  6  7  8]\n",
      " [ 9 10 11 12]] \n",
      "\n",
      "shape = (2, 2)\n",
      "[[2 3]\n",
      " [6 7]] \n",
      "\n",
      "a[0,1]= 2 \n",
      "\n",
      "[[77  3]\n",
      " [ 6  7]] \n",
      "\n",
      "a[0,1]= 77\n",
      "[[ 1 77  3  4]\n",
      " [ 5  6  7  8]\n",
      " [ 9 10 11 12]]\n"
     ]
    }
   ],
   "source": [
    "import numpy as np\n",
    "#create the following rank 2 array with shape (3,4)\n",
    "#[[1 2 3 4]\n",
    "#[5 6 7 8]\n",
    "#[9 10 11 12]]\n",
    "\n",
    "a = np.array([[1,2,3,4],[5,6,7,8],[9,10,11,12]])\n",
    "print(a,\"\\n\")\n",
    "\n",
    "#Use slicing to pull out the subarray consisting of the first 2 rows\n",
    "#and columns 1 and 2; b in the following array of shape(2,2)\n",
    "# [[2 3]\n",
    "# [6 7]]\n",
    "b = a[:2,1:3]\n",
    "print(\"shape =\",b.shape)\n",
    "print(b,\"\\n\")\n",
    "\n",
    "#A slice of an array is a view into the same data, so modifying the sliced array\n",
    "#will modify the original array from which the sliced array was made\n",
    "print(\"a[0,1]=\",a[0,1],\"\\n\")\n",
    "b[0,0] = 77\n",
    "print(b,\"\\n\")\n",
    "print(\"a[0,1]=\",a[0,1])"
   ]
  },
  {
   "cell_type": "code",
   "execution_count": 61,
   "metadata": {},
   "outputs": [
    {
     "name": "stdout",
     "output_type": "stream",
     "text": [
      "[[ 3  7  2 10]\n",
      " [ 4  2 10 22]\n",
      " [ 3  6 15 21]] \n",
      "\n",
      "sliced array:\n",
      " [[ 2 10]\n",
      " [ 6 15]]\n",
      "\n",
      "b[1,1]= 15 \n",
      "a[2,2]= 15\n",
      "\n",
      "b[1,1]= 30 \n",
      "a[2,2]= 30\n"
     ]
    }
   ],
   "source": [
    "a = np.array([[3,7,2,10],[4,2,10,22],[3,6,15,21]])\n",
    "print(a,\"\\n\")\n",
    "b = a[1:,1:3]\n",
    "print(\"sliced array:\\n\",b)\n",
    "print(\"\\nb[1,1]=\",b[1,1],\"\\na[2,2]=\",a[2,2])\n",
    "b[1,1] = 30\n",
    "print(\"\\nb[1,1]=\",b[1,1],\"\\na[2,2]=\",a[2,2])\n"
   ]
  },
  {
   "cell_type": "markdown",
   "metadata": {},
   "source": [
    "#### One useful trick with integer array indexing is selecting or mutating one element from each row of a matrix"
   ]
  },
  {
   "cell_type": "code",
   "execution_count": 72,
   "metadata": {},
   "outputs": [
    {
     "name": "stdout",
     "output_type": "stream",
     "text": [
      "[[ 1  2  3]\n",
      " [ 4  5  6]\n",
      " [ 7  8  9]\n",
      " [10 11 12]] \n",
      "\n",
      "b = [0 2 0 1] \n",
      "\n",
      "[ 1  6  7 11] \n",
      "\n",
      "[[11  2  3]\n",
      " [ 4  5 16]\n",
      " [17  8  9]\n",
      " [10 21 12]]\n"
     ]
    }
   ],
   "source": [
    "import numpy as np\n",
    "#create  a new array\n",
    "a = np.array([[1,2,3],[4,5,6],[7,8,9],[10,11,12]])\n",
    "print(a,\"\\n\")\n",
    "\n",
    "#create an array of indices\n",
    "b = np.array([0,2,0,1]) #has to be numpy array\n",
    "print(\"b =\",b,\"\\n\")\n",
    "\n",
    "#select one element from each row of a using the indices in b\n",
    "print(a[np.arange(4),b],\"\\n\") #prints \"[ 1  6  7 11]\"\n",
    "\n",
    "#Mutate one element from each row of a using the indices in b\n",
    "a[np.arange(4),b] += 10\n",
    "print(a)"
   ]
  },
  {
   "cell_type": "markdown",
   "metadata": {},
   "source": [
    "### EX\n",
    "Create a 3x3 array\n",
    "23 34 56\n",
    "2 -13 12\n",
    "-14 20 16\n",
    "Add 25 to the elements 23 -13 -14"
   ]
  },
  {
   "cell_type": "code",
   "execution_count": 80,
   "metadata": {},
   "outputs": [
    {
     "name": "stdout",
     "output_type": "stream",
     "text": [
      "[[48 34 56]\n",
      " [-2 12 12]\n",
      " [11 20 16]]\n"
     ]
    }
   ],
   "source": [
    "a = np.array([[23, 34, 56],[-2, -13, 12],[-14, 20, 16]])\n",
    "b = np.array([0,1,0])\n",
    "a[np.arange(3),b]+=25\n",
    "print(a)"
   ]
  },
  {
   "cell_type": "markdown",
   "metadata": {},
   "source": [
    "<b>Boolean array indexing:</b><br> Boolean array indexing lets you pick out arbitrary elements of an array. Frequently this type of indexing is used to select the elements of an array that satisfies some condition."
   ]
  },
  {
   "cell_type": "code",
   "execution_count": 91,
   "metadata": {},
   "outputs": [
    {
     "name": "stdout",
     "output_type": "stream",
     "text": [
      "[[False False]\n",
      " [ True  True]\n",
      " [ True  True]] \n",
      "\n",
      "using bool_idx\n",
      " [3 4 5 6]\n",
      "<class 'numpy.ndarray'> \n",
      "\n",
      "[3 4 5 6] <class 'numpy.ndarray'>\n",
      "[1 2] <class 'numpy.ndarray'>\n"
     ]
    }
   ],
   "source": [
    "import numpy as np\n",
    "\n",
    "a = np.array([[1,2],[3,4],[5,6]])\n",
    "\n",
    "bool_idx = (a>2) #Find the elements of 'a' that are bigger than 2\n",
    "                 #this returns a numpy array of booleans \n",
    "                 #shape as a, where each slot of bool_idx\n",
    "                 #whether that elememt is greater than 2\n",
    "print(bool_idx,\"\\n\") #print \"[[False False]\n",
    "                    #       [ True  True]\n",
    "                   #       [ True  True]]\"\n",
    "#we use array indexing to construct a rank 1 array\n",
    "#consisting of the element s of a corresponding to the True value of bool_idx\n",
    "print(\"using bool_idx\\n\",a[bool_idx])\n",
    "print(type(a[bool_idx]),\"\\n\")\n",
    "\n",
    "print(a[a>2],type(a[a>2])) #elements of 'a' of that are greater than 2\n",
    "print(a[a<3],type(a[a>2])) #elements of 'a' of that are lesser than 3"
   ]
  },
  {
   "cell_type": "markdown",
   "metadata": {},
   "source": [
    "## Array Math\n",
    "Basic mathematical functions operate element wise on arays,and are available<br>\n",
    "both as operator overloads and as functions in the numpy module"
   ]
  },
  {
   "cell_type": "code",
   "execution_count": 110,
   "metadata": {},
   "outputs": [
    {
     "name": "stdout",
     "output_type": "stream",
     "text": [
      "using basic operator '+'\n",
      " [[ 6.  8.]\n",
      " [10. 12.]] \n",
      "\n",
      "using np.add(x,y)\n",
      " [[ 6.  8.]\n",
      " [10. 12.]] \n",
      "\n",
      "-------------------------------------\n",
      "using basic operator '-'\n",
      " [[-4. -4.]\n",
      " [-4. -4.]] \n",
      "\n",
      "using np.subtract(x,y)\n",
      " [[-4. -4.]\n",
      " [-4. -4.]] \n",
      "\n",
      "-------------------------------------\n",
      "using basic operator '/'\n",
      " [[0.2        0.33333333]\n",
      " [0.42857143 0.5       ]] \n",
      "\n",
      "using np.divide(x,y)\n",
      " [[0.2        0.33333333]\n",
      " [0.42857143 0.5       ]] \n",
      "\n",
      "-------------------------------------\n",
      "using basic operator '*'\n",
      " [[ 5. 12.]\n",
      " [21. 32.]] \n",
      "\n",
      "using np.multiply(x,y)\n",
      " [[ 5. 12.]\n",
      " [21. 32.]] \n",
      "\n",
      "-------------------------------------\n",
      "using np.sqrt(x)\n",
      " [[1.         1.41421356]\n",
      " [1.73205081 2.        ]] \n",
      "\n",
      "-------------------------------------\n"
     ]
    }
   ],
   "source": [
    "import numpy as np\n",
    "\n",
    "x = np.array([[1,2],[3,4]],dtype=np.float64)\n",
    "y = np.array([[5,6],[7,8]],dtype=np.float64)\n",
    "\n",
    "#Elementwise addition, both produce array\n",
    "print(\"using basic operator '+'\\n\",x+y,\"\\n\")\n",
    "print(\"using np.add(x,y)\\n\",np.add(x,y),\"\\n\",)\n",
    "print(\"-------------------------------------\")\n",
    "\n",
    "#Elementwise difference, both produce array\n",
    "print(\"using basic operator '-'\\n\",x-y,\"\\n\")\n",
    "print(\"using np.subtract(x,y)\\n\",np.subtract(x,y),\"\\n\")\n",
    "print(\"-------------------------------------\")\n",
    "\n",
    "#Elementwise division, both produce array\n",
    "print(\"using basic operator '/'\\n\",x/y,\"\\n\")\n",
    "print(\"using np.divide(x,y)\\n\",np.divide(x,y),\"\\n\")\n",
    "print(\"-------------------------------------\")\n",
    "\n",
    "#Elementwise product, both produce array\n",
    "print(\"using basic operator '*'\\n\",x*y,\"\\n\")\n",
    "print(\"using np.multiply(x,y)\\n\",np.multiply(x,y),\"\\n\")\n",
    "print(\"-------------------------------------\")\n",
    "\n",
    "#Elementwise squareroot, both produce array\n",
    "print(\"using np.sqrt(x)\\n\",np.sqrt(x),\"\\n\")\n",
    "print(\"-------------------------------------\")"
   ]
  },
  {
   "cell_type": "code",
   "execution_count": 106,
   "metadata": {},
   "outputs": [
    {
     "name": "stdout",
     "output_type": "stream",
     "text": [
      "shape = (2, 2) \n",
      "\n",
      "[[ 4  8]\n",
      " [12 16]] \n",
      "\n",
      "[[0.5 1. ]\n",
      " [1.5 2. ]] \n",
      "\n",
      "[[3 4]\n",
      " [5 6]] \n",
      "\n",
      "[[-1  0]\n",
      " [ 1  2]]\n"
     ]
    }
   ],
   "source": [
    "#single number multiplication\n",
    "array3 = np.array([[1,2],[3,4]])\n",
    "print(\"shape =\",array3.shape,\"\\n\")\n",
    "print(array3*4,\"\\n\")\n",
    "print(array3/2.0,\"\\n\")\n",
    "print(array3+2,\"\\n\")\n",
    "print(array3-2)"
   ]
  },
  {
   "cell_type": "code",
   "execution_count": 109,
   "metadata": {},
   "outputs": [
    {
     "name": "stdout",
     "output_type": "stream",
     "text": [
      "[[19 22]\n",
      " [43 50]]\n",
      "[[19 22]\n",
      " [43 50]]\n"
     ]
    }
   ],
   "source": [
    "import numpy as np\n",
    "x = np.array([[1,2],[3,4]])\n",
    "y = np.array([[5,6],[7,8]])\n",
    "\n",
    "print(np.dot(x,y))\n",
    "print(x.dot(y))\n",
    "\n"
   ]
  },
  {
   "cell_type": "code",
   "execution_count": 111,
   "metadata": {},
   "outputs": [
    {
     "name": "stdout",
     "output_type": "stream",
     "text": [
      "10\n",
      "[4 6]\n",
      "[3 7]\n"
     ]
    }
   ],
   "source": [
    "import numpy as np\n",
    "x = np.array([[1,2],[3,4]])\n",
    "\n",
    "print(np.sum(x)) #computes sum of matrix and returns single number\n",
    "print(np.sum(x,axis=0)) #Compute sum of each column; prints \"[4 6]\"\n",
    "print(np.sum(x,axis=1)) #compute sum of each row; prints \"[3 7]\""
   ]
  },
  {
   "cell_type": "code",
   "execution_count": 117,
   "metadata": {},
   "outputs": [
    {
     "name": "stdout",
     "output_type": "stream",
     "text": [
      "Original Matrix\n",
      " [[1 2]\n",
      " [3 4]]\n",
      "Transpose matrix\n",
      " [[1 3]\n",
      " [2 4]] \n",
      "\n",
      "Original Matrix\n",
      " [1 2 3]\n",
      "Transpose matrix\n",
      " [1 2 3]\n"
     ]
    }
   ],
   "source": [
    "import numpy as np\n",
    "x = np.array([[1,2],[3,4]])\n",
    "print(\"Original Matrix\\n\",x)\n",
    "print(\"Transpose matrix\\n\",x.T,\"\\n\")\n",
    "\n",
    "\n",
    "#Transpose of rank 1 matrix does nothing\n",
    "v = np.array([1,2,3])\n",
    "print(\"Original Matrix\\n\",v)\n",
    "print(\"Transpose matrix\\n\",v.T)"
   ]
  },
  {
   "cell_type": "markdown",
   "metadata": {},
   "source": [
    "<b>Q1. X = 3A - 4B</b><br>\n",
    "\n",
    "<b>A:</b><br>\n",
    "4 -2<br>\n",
    "1 -7<br>\n",
    "\n",
    "<b>B:</b><br>\n",
    "-1 2<br>\n",
    "6 5<br>\n",
    "<b>------------------------------------------------------</b><br>\n",
    "<b>Q2. X = A'A - 2A</b><br>\n",
    "\n",
    "<b>A:</b><br>\n",
    "3 -1<br>\n",
    "0 2<br>\n",
    "\n",
    "Solve for <b>X</b><br>\n",
    "<b>------------------------------------------------------</b><br>\n",
    "Solve for <b>X</b><br>\n",
    "<b>Q3. X = 2AB + C</b><br>\n",
    "\n",
    "<b>A:</b><br>\n",
    "3 0 -1<br>\n",
    "0 2 1<br>\n",
    "\n",
    "<b>B:</b><br>\n",
    "1 2<br>\n",
    "1 0<br>\n",
    "0 6<br>\n",
    "\n",
    "<b>C:</b><br>\n",
    "-2 0<br>\n",
    "-2 -5<br>\n",
    "<b>------------------------------------------------------</b><br>\n",
    "Solve for <b>X</b><br>\n",
    "<b>Q4. Proof the following using the given matrices:</b><br>\n",
    "\n",
    "<b>A:</b><br>\n",
    "10 12<br>\n",
    "-7 -21<br>\n",
    "\n",
    "<b>B:</b><br>\n",
    "45 3<br>\n",
    "12 -2<br>\n",
    "\n",
    "<b>C:</b><br>\n",
    "20 21<br>\n",
    "-4 -5<br>\n",
    "\n",
    "<b>i) (ABC)' = A'B'C'</b><br>\n",
    "<b>ii) (A + B)' = A' + B'</b><br>\n",
    "<b>iii) A(B + C) = AB + AC</b><br>"
   ]
  },
  {
   "cell_type": "code",
   "execution_count": 123,
   "metadata": {},
   "outputs": [
    {
     "name": "stdout",
     "output_type": "stream",
     "text": [
      "[[ 16 -14]\n",
      " [-21 -41]]\n"
     ]
    }
   ],
   "source": [
    "#1\n",
    "import numpy as np\n",
    "a = np.array([[4,-2],[1,-7]])\n",
    "b = np.array([[-1, 2],[6,5]])\n",
    "x = 3*a - 4*b\n",
    "print(x)"
   ]
  },
  {
   "cell_type": "code",
   "execution_count": 127,
   "metadata": {},
   "outputs": [
    {
     "name": "stdout",
     "output_type": "stream",
     "text": [
      "[[ 3 -1]\n",
      " [-3  1]]\n"
     ]
    }
   ],
   "source": [
    "#2\n",
    "import numpy as np\n",
    "a = np.array([[3,-1],[0,2]])\n",
    "x = (a.T).dot(a) - 2*a\n",
    "print(x)"
   ]
  },
  {
   "cell_type": "code",
   "execution_count": 132,
   "metadata": {},
   "outputs": [
    {
     "name": "stdout",
     "output_type": "stream",
     "text": [
      "[[4 0]\n",
      " [2 7]]\n"
     ]
    }
   ],
   "source": [
    "#3\n",
    "import numpy as np\n",
    "a = np.array([[3,0,-1],[0,2,1]])\n",
    "b = np.array([[1,2],[1,0],[0,6]])\n",
    "c = np.array([[-2,0],[-2,-5]])\n",
    "x = 2*(a.dot(b)) + c\n",
    "print(x)"
   ]
  },
  {
   "cell_type": "code",
   "execution_count": 150,
   "metadata": {},
   "outputs": [
    {
     "name": "stdout",
     "output_type": "stream",
     "text": [
      "(ABC)' = A'B'C' is False\n",
      "(A + B)' = A' + B' is True\n",
      "A(B + C) = AB + AC is True\n",
      "True\n"
     ]
    }
   ],
   "source": [
    "#4\n",
    "import numpy as np\n",
    "a = np.array([[10,12],[-7,-21]])\n",
    "b = np.array([[45,3],[12,-2]])\n",
    "c = np.array([[20,21],[-4,-5]])\n",
    "\n",
    "#(i)\n",
    "x = ((a.dot(b)).dot(c)).T\n",
    "y = ((a.T).dot(b.T)).dot(c.T)\n",
    "print(\"(ABC)' = A'B'C' is \",end=\"\")\n",
    "if False in (x==y):\n",
    "    print(\"False\")\n",
    "else:\n",
    "    print(\"True\")\n",
    "\n",
    "#(ii)\n",
    "x = (a+b).T\n",
    "y = a.T + b.T\n",
    "print(\"(A + B)' = A' + B' is \",end=\"\")\n",
    "if False in (x==y):\n",
    "    print(\"False\")\n",
    "else:\n",
    "    print(\"True\")\n",
    "\n",
    "#(iii)\n",
    "x = a.dot(b+c)\n",
    "y = a.dot(b)+a.dot(c)\n",
    "print(\"A(B + C) = AB + AC is \",end=\"\")\n",
    "if False in (x==y):\n",
    "    print(\"False\")\n",
    "else:\n",
    "    print(\"True\")"
   ]
  },
  {
   "cell_type": "code",
   "execution_count": null,
   "metadata": {},
   "outputs": [],
   "source": []
  }
 ],
 "metadata": {
  "kernelspec": {
   "display_name": "Python 3",
   "language": "python",
   "name": "python3"
  },
  "language_info": {
   "codemirror_mode": {
    "name": "ipython",
    "version": 3
   },
   "file_extension": ".py",
   "mimetype": "text/x-python",
   "name": "python",
   "nbconvert_exporter": "python",
   "pygments_lexer": "ipython3",
   "version": "3.6.5"
  }
 },
 "nbformat": 4,
 "nbformat_minor": 2
}
