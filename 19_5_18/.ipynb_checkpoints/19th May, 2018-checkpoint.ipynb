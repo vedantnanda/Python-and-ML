{
 "cells": [
  {
   "cell_type": "markdown",
   "metadata": {},
   "source": [
    "# Day 5"
   ]
  },
  {
   "cell_type": "markdown",
   "metadata": {},
   "source": [
    "<b>Topics to be covered today</b> \n",
    "<br>-list comprehension \n",
    "<br>-Map \n",
    "<br>-Lambda \n",
    "<br>-File i/o \n",
    "<br>-Erroe handling"
   ]
  },
  {
   "cell_type": "markdown",
   "metadata": {},
   "source": [
    "### write a function to create a list that contains squares of all numbers from 1 to 9"
   ]
  },
  {
   "cell_type": "code",
   "execution_count": 1,
   "metadata": {},
   "outputs": [
    {
     "name": "stdout",
     "output_type": "stream",
     "text": [
      "Enter n: 9\n",
      "[1, 4, 9, 16, 25, 36, 49, 64, 81]\n"
     ]
    }
   ],
   "source": [
    "def sq(n):\n",
    "    return([x**2 for x in range(1,n+1)])\n",
    "n = int(input(\"Enter n: \"))\n",
    "print(sq(n))"
   ]
  },
  {
   "cell_type": "markdown",
   "metadata": {},
   "source": [
    "### list comprehension examples"
   ]
  },
  {
   "cell_type": "code",
   "execution_count": 2,
   "metadata": {},
   "outputs": [
    {
     "name": "stdout",
     "output_type": "stream",
     "text": [
      "[(1, 3), (1, 1), (1, 4), (2, 3), (2, 1), (2, 4), (3, 3), (3, 1), (3, 4)]\n"
     ]
    }
   ],
   "source": [
    "nolist = [(x,y) for x in [1,2,3] for y in [3,1,4]]\n",
    "print(nolist)"
   ]
  },
  {
   "cell_type": "code",
   "execution_count": 3,
   "metadata": {},
   "outputs": [
    {
     "name": "stdout",
     "output_type": "stream",
     "text": [
      "[(1, 3), (1, 4), (2, 3), (2, 1), (2, 4), (3, 1), (3, 4)]\n"
     ]
    }
   ],
   "source": [
    "ulist = [(x,y) for x in [1,2,3] for y in [3,1,4] if x!=y]\n",
    "print(ulist)"
   ]
  },
  {
   "cell_type": "code",
   "execution_count": 4,
   "metadata": {},
   "outputs": [
    {
     "name": "stdout",
     "output_type": "stream",
     "text": [
      "[0, 2, 4, 6, 8, 10]\n"
     ]
    }
   ],
   "source": [
    "evenlist = [x for x in range(0,11) if x%2==0]\n",
    "print(evenlist)"
   ]
  },
  {
   "cell_type": "code",
   "execution_count": 5,
   "metadata": {},
   "outputs": [
    {
     "name": "stdout",
     "output_type": "stream",
     "text": [
      "[1, 3, 5, 7, 9]\n"
     ]
    }
   ],
   "source": [
    "oddlist = [x for x in range(0,11) if x%2!=0]\n",
    "print(oddlist)"
   ]
  },
  {
   "cell_type": "markdown",
   "metadata": {},
   "source": [
    "EX1\n",
    "froma  list of words extract first letter from every word and store in another list using list comprehension"
   ]
  },
  {
   "cell_type": "code",
   "execution_count": 6,
   "metadata": {},
   "outputs": [
    {
     "name": "stdout",
     "output_type": "stream",
     "text": [
      "['t', 'i', 'a', 'l', 'o', 'w']\n"
     ]
    }
   ],
   "source": [
    "pl = [\"this\",\"is\",\"a\",\"list\",\"of\",\"words\"]\n",
    "print([i[0] for i in pl])"
   ]
  },
  {
   "cell_type": "markdown",
   "metadata": {},
   "source": [
    "EX2<br>\n",
    "from a list of temp values in celcius<br>\n",
    "compute farenheit value of each and store in another list using list comprehension<br>\n",
    "f = (c * 1.8) + 32"
   ]
  },
  {
   "cell_type": "code",
   "execution_count": 7,
   "metadata": {},
   "outputs": [
    {
     "name": "stdout",
     "output_type": "stream",
     "text": [
      "[102.56, 97.7, 99.14, 100.03999999999999]\n"
     ]
    }
   ],
   "source": [
    "cl = [39.2,36.5,37.3,37.8]\n",
    "fl = [(c*9/5)+32 for c in cl]\n",
    "print(fl)"
   ]
  },
  {
   "cell_type": "markdown",
   "metadata": {},
   "source": [
    "EX3<br>\n",
    "Create a list using list comprehension to store pythagorean triplets x,y,z range 1 to 30"
   ]
  },
  {
   "cell_type": "code",
   "execution_count": 8,
   "metadata": {},
   "outputs": [
    {
     "name": "stdout",
     "output_type": "stream",
     "text": [
      "[(3, 4, 5), (5, 12, 13), (6, 8, 10), (7, 24, 25), (8, 15, 17), (9, 12, 15), (10, 24, 26), (12, 16, 20), (15, 20, 25), (18, 24, 30), (20, 21, 29)]\n"
     ]
    }
   ],
   "source": [
    "pt = [(x,y,z) for x in range(1,31) for y in range (1,31) for z in range(1,31) if (x**2+y**2==z**2) and x<y and y<z]\n",
    "print(pt)"
   ]
  },
  {
   "cell_type": "markdown",
   "metadata": {},
   "source": [
    "## Lambda"
   ]
  },
  {
   "cell_type": "markdown",
   "metadata": {},
   "source": [
    "<b>Note:</b>\n",
    "Other functions are created from the beginning and stays in the memory but <b>lambda</b> and <b>map</b> are created when the line is executed and destroyed after exectuion, so it saves memory space."
   ]
  },
  {
   "cell_type": "code",
   "execution_count": 9,
   "metadata": {},
   "outputs": [
    {
     "name": "stdout",
     "output_type": "stream",
     "text": [
      "<class 'function'>\n"
     ]
    },
    {
     "data": {
      "text/plain": [
       "7"
      ]
     },
     "execution_count": 9,
     "metadata": {},
     "output_type": "execute_result"
    }
   ],
   "source": [
    "sumVal = lambda x,y:x+y\n",
    "print(type(sumVal))\n",
    "sumVal(3,4)"
   ]
  },
  {
   "cell_type": "code",
   "execution_count": 10,
   "metadata": {},
   "outputs": [
    {
     "name": "stdout",
     "output_type": "stream",
     "text": [
      "9\n"
     ]
    }
   ],
   "source": [
    "sqVal = lambda x : x**2\n",
    "print(sqVal(3))"
   ]
  },
  {
   "cell_type": "markdown",
   "metadata": {},
   "source": [
    "## lambda examples"
   ]
  },
  {
   "cell_type": "code",
   "execution_count": 21,
   "metadata": {},
   "outputs": [
    {
     "name": "stdout",
     "output_type": "stream",
     "text": [
      "Enter 3 digit number: 456\n",
      "120\n"
     ]
    }
   ],
   "source": [
    "#product of digits  of a 3 digit numbers\n",
    "pr = lambda x : int(x[0])*int(x[1])*int(x[2])\n",
    "prr = str(input(\"Enter 3 digit number: \"))\n",
    "print(pr(prr))"
   ]
  },
  {
   "cell_type": "code",
   "execution_count": 28,
   "metadata": {},
   "outputs": [
    {
     "name": "stdout",
     "output_type": "stream",
     "text": [
      "Enter 3 digit number: 123\n",
      "14\n"
     ]
    }
   ],
   "source": [
    "#create a lambda function to create sum of square of digits for 3 digit number\n",
    "p1 = lambda x : int(x[0])**2+int(x[1])**2+int(x[2])**2\n",
    "p2 = str(input(\"Enter 3 digit number: \"))\n",
    "print(p1(p2))"
   ]
  },
  {
   "cell_type": "code",
   "execution_count": 33,
   "metadata": {},
   "outputs": [
    {
     "name": "stdout",
     "output_type": "stream",
     "text": [
      "Enter principal: 100\n",
      "Enter rate: 6\n",
      "Enter time: 10\n",
      "60.0\n"
     ]
    }
   ],
   "source": [
    "#lambda function to calculate simple interest\n",
    "si = lambda p,r,t : (p*r*t)/100\n",
    "p = float(input(\"Enter principal: \"))\n",
    "r = float(input(\"Enter rate: \"))\n",
    "t = float(input(\"Enter time: \"))\n",
    "print(si(p,r,t))"
   ]
  },
  {
   "cell_type": "code",
   "execution_count": 40,
   "metadata": {},
   "outputs": [
    {
     "name": "stdout",
     "output_type": "stream",
     "text": [
      "Enter temperature in celcius: 12\n",
      "farenheit value of celius degree 12.0 is 53.6\n"
     ]
    }
   ],
   "source": [
    "#lambda function for celcius to farenheit\n",
    "faren = lambda c : c * 1.8 +32\n",
    "c = float(input(\"Enter temperature in celcius: \"))\n",
    "print(\"farenheit value of celius degree {0} is {1}\".format(c,faren(c)))"
   ]
  },
  {
   "cell_type": "markdown",
   "metadata": {},
   "source": [
    "## Anonymous Function: Map\n",
    "<html><body><p style=\"color:magenta\">About map</p></body></html>\n",
    "<b>Syntax: map(action,sequence)</b><br>\n",
    "The map() function maps an <b>action</b> on every element of the <b>sequence</b> provided"
   ]
  },
  {
   "cell_type": "code",
   "execution_count": 43,
   "metadata": {},
   "outputs": [
    {
     "name": "stdout",
     "output_type": "stream",
     "text": [
      "[1, 4, 9, 16, 25]\n"
     ]
    }
   ],
   "source": [
    "squareVal = list(map(lambda x: x**2,[1,2,3,4,5,]))\n",
    "print(squareVal)"
   ]
  },
  {
   "cell_type": "code",
   "execution_count": 44,
   "metadata": {},
   "outputs": [
    {
     "name": "stdout",
     "output_type": "stream",
     "text": [
      "[0, 1, 4, 9, 16, 25, 36, 49, 64, 81]\n"
     ]
    }
   ],
   "source": [
    "squareVal = list(map(lambda x: x**2,range(10)))\n",
    "print(squareVal)"
   ]
  },
  {
   "cell_type": "code",
   "execution_count": 50,
   "metadata": {
    "scrolled": true
   },
   "outputs": [
    {
     "name": "stdout",
     "output_type": "stream",
     "text": [
      "23 45.5 87.3 34.3 -56.5\n",
      "[73.4, 113.9, 189.14, 93.74, -69.7]\n"
     ]
    }
   ],
   "source": [
    "#celcius to farenheit using lambda and map\n",
    "#23 45.5 87.3 34.3 -56.5\n",
    "l=[]\n",
    "#l = list(map(faren,list(map(float,input().split()))))\n",
    "l = list(map(lambda c : c * 1.8 +32,list(map(float,input().split()))))\n",
    "print(l)"
   ]
  },
  {
   "cell_type": "markdown",
   "metadata": {},
   "source": [
    "## File I/O:\n",
    "<html><body><p style=\"color:orange\">About File Handling</p></body></html>\n",
    "<b>fobj = open(filename.extention,mode)</b> - opens a file in a specific mode. FileNotFoundError if file is not found. Returns a object of the type <b>_io.TextIOWrapper</b>.<br>\n",
    "<b>Modes</b> can be: \n",
    "https://image.slidesharecdn.com/python-and-youday1-4-140705131131-phpapp02/95/python-and-you-series-29-638.jpg?cb=1404567284\n",
    "<br>\n",
    "-><b>r</b> = read only<br>\n",
    "-><b>w</b> = write only<br>\n",
    "-><b>rb</b> = read binary<br>\n",
    "-><b>wb</b> = write binary<br>\n",
    "-><b>r+ </b> = r/w<br>\n",
    "-><b>rb+</b> = r/w binary<br>\n",
    "-><b>a</b> = append only<br>\n",
    "-><b>ab</b> = append binary<br>\n",
    "\n",
    "<b></b> = <br>\n",
    "<b>fobj.read()</b> = reads data from the file and returns it as string.<br>\n",
    "<b>fobj.write(data)</b> = writes data to the file and returns the number of bytes written into the file. Overwrites the file each time executed.<br>\n",
    "<b>fobj.close()</b> - closes the file and destroys the file object.<br>"
   ]
  },
  {
   "cell_type": "code",
   "execution_count": 69,
   "metadata": {},
   "outputs": [
    {
     "name": "stdout",
     "output_type": "stream",
     "text": [
      "file1.txt\n",
      "sfdfsdf\n",
      "sdf45rwer\n",
      "354534\n",
      "\n",
      "\n"
     ]
    }
   ],
   "source": [
    "fo = open(\"file1.txt\",\"r\")\n",
    "print(fo.name)\n",
    "print(fo.read())\n",
    "#fo.write(\"new data\") error\n",
    "fo.close()"
   ]
  },
  {
   "cell_type": "code",
   "execution_count": 104,
   "metadata": {},
   "outputs": [
    {
     "name": "stdout",
     "output_type": "stream",
     "text": [
      "file2.txt\n"
     ]
    }
   ],
   "source": [
    "fo = open(\"file2.txt\",\"w\")\n",
    "print(fo.name)\n",
    "fo.write(\"data written on file\")\n",
    "#print(fo.read()) Error\n",
    "fo.close()"
   ]
  },
  {
   "cell_type": "code",
   "execution_count": 106,
   "metadata": {},
   "outputs": [
    {
     "name": "stdout",
     "output_type": "stream",
     "text": [
      "file3.txt\n",
      "First Name:Vedant\n",
      "Enter Roll no:40\n",
      "Enter College:ITER\n"
     ]
    }
   ],
   "source": [
    "#writing to a file\n",
    "fo = open(\"file3.txt\",\"w\")\n",
    "print(fo.name)\n",
    "fo.write(\"First Name: {0}\\nRoll No:{1}\\nCollege:{2}\\nThanks!\".format(input(\"First Name:\"),input(\"Enter Roll no:\"),input(\"Enter College:\")))\n",
    "#print(fo.read())\n",
    "fo.close()"
   ]
  },
  {
   "cell_type": "code",
   "execution_count": 78,
   "metadata": {},
   "outputs": [
    {
     "name": "stdout",
     "output_type": "stream",
     "text": [
      "file3.txt\n",
      "First Name: Vedant\n",
      "Roll No:40\n",
      "College:ITER\n",
      "Thanks\n"
     ]
    }
   ],
   "source": [
    "fo = open(\"file3.txt\",\"r\")\n",
    "print(fo.name)\n",
    "print(fo.read())\n",
    "fo.close()"
   ]
  },
  {
   "cell_type": "code",
   "execution_count": 80,
   "metadata": {},
   "outputs": [
    {
     "name": "stdout",
     "output_type": "stream",
     "text": [
      "file3.txt\n",
      "First Name: Ved\n"
     ]
    }
   ],
   "source": [
    "#reading from a file\n",
    "fo = open(\"file3.txt\",\"r\")\n",
    "print(fo.name)\n",
    "print(fo.read(15)) #number of bytes to be read from file\n",
    "fo.close()"
   ]
  },
  {
   "cell_type": "code",
   "execution_count": 82,
   "metadata": {},
   "outputs": [
    {
     "name": "stdout",
     "output_type": "stream",
     "text": [
      "file2.txt\n",
      "30\n"
     ]
    }
   ],
   "source": [
    "#appending to a file\n",
    "fo = open(\"file2.txt\",\"a\")\n",
    "print(fo.name)\n",
    "print(fo.write(\"\\nthis is the appended sentence\"))\n",
    "fo.close()"
   ]
  },
  {
   "cell_type": "markdown",
   "metadata": {},
   "source": [
    "<b>replace</b><br>\n",
    "<b>join </b><br>\n",
    "<b>split</b><br>"
   ]
  },
  {
   "cell_type": "code",
   "execution_count": 100,
   "metadata": {},
   "outputs": [
    {
     "name": "stdout",
     "output_type": "stream",
     "text": [
      "I love python programming\n",
      "I like python programming\n",
      "34-55-46-75\n",
      "Aditya & Rahul & Allen & Akanshya\n",
      "['cat', 'ball', 'apple', 'mango']\n",
      "<class 'list'>\n",
      "After splitting with p as separator:  ['cat,ball,a', '', 'le,mango']  lenth of list: 3\n"
     ]
    }
   ],
   "source": [
    "#replace\n",
    "oldstring = \"I like python programming\"\n",
    "newstring = oldstring.replace(\"like\",\"love\")\n",
    "print(newstring)\n",
    "\n",
    "#what happens if no match\n",
    "oldstring = \"I like python programming\"\n",
    "newstring = oldstring.replace(\"khela\",\"love\")\n",
    "print(newstring) #no change\n",
    "\n",
    "#join\n",
    "print(\"-\".join([\"34\",\"55\",\"46\",\"75\"]))\n",
    "\n",
    "mySeq = [\"Aditya\",\"Rahul\",\"Allen\",\"Akanshya\"]\n",
    "print(\" & \".join(mySeq))\n",
    "\n",
    "#split\n",
    "str1 = \"cat,ball,apple,mango\"\n",
    "print(str1.split(\",\"))\n",
    "print(type(str1.split(\",\")))\n",
    "\n",
    "\n",
    "str1 = \"cat,ball,apple,mango\"\n",
    "ll = str1.split(\"p\")\n",
    "print(\"After splitting with p as separator: \",ll,\" lenth of list:\",len(ll)) #the character that we split on that character is lost\n",
    "\n"
   ]
  },
  {
   "cell_type": "code",
   "execution_count": 107,
   "metadata": {},
   "outputs": [
    {
     "name": "stdout",
     "output_type": "stream",
     "text": [
      "['First Name: Vedant\\n', 'Roll No:40\\n', 'College:ITER\\n', 'Thanks!']\n"
     ]
    }
   ],
   "source": [
    "fo = open(\"file3.txt\",\"r\")\n",
    "list1 = fo.readlines()\n",
    "print(list1)\n",
    "fo.close()\n",
    "\n"
   ]
  },
  {
   "cell_type": "markdown",
   "metadata": {},
   "source": [
    "## HA Extra\n",
    "readlines from the file where you storedfirst name, roll no, college name, and thanks. \n",
    "read each line separatelly so dont use fo.read() now extract the first name from the file \n",
    "input - none<br>\n",
    "output - aditya<br>\n",
    "\n",
    "<b><i>ALGORITHM</i></b><br>\n",
    "open file in read mode\n",
    "fo.readlines the file and store each line as element in a list\n",
    "perform .split(\" \") on space ooperation on first element of this liststrore the outpurt in another list2\n",
    "list2 should have [\"firsy name:\",\"Aditya\"]\n",
    "now just print the second element"
   ]
  },
  {
   "cell_type": "markdown",
   "metadata": {},
   "source": [
    "## Exception Handling"
   ]
  },
  {
   "cell_type": "code",
   "execution_count": null,
   "metadata": {},
   "outputs": [],
   "source": [
    "try:#write whatever code you want to write\n",
    "except <exception>:#put the possible exception here\n",
    "    print(\"Some Error\")\n",
    "else:#if no exception this block executed\n",
    "    print(\"All went well\")"
   ]
  },
  {
   "cell_type": "code",
   "execution_count": 109,
   "metadata": {},
   "outputs": [
    {
     "name": "stdout",
     "output_type": "stream",
     "text": [
      "1.0\n",
      "No error\n"
     ]
    }
   ],
   "source": [
    "try:\n",
    "    print(1/0)\n",
    "except Exception:\n",
    "    print(\"division by zero not possible\")\n",
    "else:\n",
    "    print(\"No error\")"
   ]
  },
  {
   "cell_type": "code",
   "execution_count": 120,
   "metadata": {},
   "outputs": [
    {
     "name": "stdout",
     "output_type": "stream",
     "text": [
      "Error: cant find file / cant write \n"
     ]
    }
   ],
   "source": [
    "try:\n",
    "    fh = open(\"testfile\",\"r\")\n",
    "    fh.write(\"This command will generate error\")\n",
    "except IOError:\n",
    "    print(\"Error: can't find file / can't write to the file \")\n",
    "else:\n",
    "    print(\"No error\")"
   ]
  },
  {
   "cell_type": "code",
   "execution_count": 123,
   "metadata": {},
   "outputs": [
    {
     "name": "stdout",
     "output_type": "stream",
     "text": [
      "Key not found in dictionary\n"
     ]
    }
   ],
   "source": [
    "did = {}\n",
    "try:\n",
    "    print(did[\"alpha\"])\n",
    "except KeyError:\n",
    "    print(\"Key not found in dictionary\")"
   ]
  },
  {
   "cell_type": "code",
   "execution_count": 140,
   "metadata": {},
   "outputs": [
    {
     "name": "stdout",
     "output_type": "stream",
     "text": [
      "Incompatible Value types\n"
     ]
    }
   ],
   "source": [
    "did = {}\n",
    "ll = []\n",
    "try:\n",
    "    print(\"34\"+3) #TypeError\n",
    "    print(1/0) #ZeroDivisionError\n",
    "    print(ll[1]) #IndexError\n",
    "    fh = open(\"testfile\",\"r\") #FileNotFoundError\n",
    "    fh.write(\"This command will generate error\") #IOError\n",
    "    print(did[\"alpha\"]) #KeyError\n",
    "    print(int(\"dasd\")) #ValueError\n",
    "\n",
    "except IOError:\n",
    "    print(\"Error: can't find file / can't write to the file \")\n",
    "except ZeroDivisionError:\n",
    "    print(\"Division by zero not possible\")\n",
    "except KeyError:\n",
    "    print(\"Key not found in dictionary\")\n",
    "except IndexError:\n",
    "    print(\"Index out of range\")\n",
    "except NameError:\n",
    "    print(\"name not defined\")\n",
    "except ValueError:\n",
    "    print(\"Invalid casting types\")\n",
    "except TypeError:\n",
    "    print(\"Incompatible Value types\")\n",
    "except FileNotFoundError:\n",
    "    print(\"File not found\")\n",
    "except Exception:\n",
    "    print(\"Exception generated\")\n",
    "else:\n",
    "    print(\"No Error, successful execution\")"
   ]
  },
  {
   "cell_type": "code",
   "execution_count": 126,
   "metadata": {},
   "outputs": [
    {
     "name": "stdout",
     "output_type": "stream",
     "text": [
      "Exception raised\n"
     ]
    }
   ],
   "source": [
    "try:\n",
    "    raise Exception\n",
    "except Exception:\n",
    "    print(\"Exception raised\")"
   ]
  },
  {
   "cell_type": "markdown",
   "metadata": {},
   "source": [
    "##### Arithmetic error is base class for OverflowError, ZeroDivisionError, FloatingPointError"
   ]
  },
  {
   "cell_type": "code",
   "execution_count": null,
   "metadata": {},
   "outputs": [],
   "source": []
  }
 ],
 "metadata": {
  "kernelspec": {
   "display_name": "Python 3",
   "language": "python",
   "name": "python3"
  },
  "language_info": {
   "codemirror_mode": {
    "name": "ipython",
    "version": 3
   },
   "file_extension": ".py",
   "mimetype": "text/x-python",
   "name": "python",
   "nbconvert_exporter": "python",
   "pygments_lexer": "ipython3",
   "version": "3.6.5"
  }
 },
 "nbformat": 4,
 "nbformat_minor": 2
}
