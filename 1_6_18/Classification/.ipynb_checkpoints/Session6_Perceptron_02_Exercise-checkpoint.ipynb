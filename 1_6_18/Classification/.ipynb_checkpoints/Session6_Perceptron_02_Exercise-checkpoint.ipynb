{
 "cells": [
  {
   "cell_type": "markdown",
   "metadata": {},
   "source": [
    "# Exercise - Binary Classification with Perceptron\n",
    "\n",
    "Classify vehicle mileage as high or low based on two features, weight and horsepower using Perceptron model.\n",
    "\n",
    "## Perform the following functions\n",
    "1. Plot the scatter of weight vs horsepower. The vehicles with high mileage should be in blue color and low should be in red color. Give appropriate legends. \n",
    "2. Split the data set into training and testing data set. Use the train_test_split function to get a 80:20 split, using random_state 3. Plot a bar chart of number of 1's and 0's in the training dataset. \n",
    "4. Use the perceptron model to classify the data, and get predictions for test dataset.\n",
    "5. Obtain the confusion matrix of the output.\n",
    "6. Plot the separating hyperplane on the training dataset.\n",
    "7. Get the classification result for the values of weight 2, 3.3, 1.21, 5.32, 1.23, 4.8 and horsepower 20, 29, 13, 100, 40, 49 respectively. \n",
    "\n",
    "## Split the dataset with 80:20 ratio, but with random_state 299. Get the output of steps 3, 4, 5, 6. What is the difference from the previous output?\n",
    "\n",
    "## Perform KFold cross validation for k=3 to 6 for this dataset."
   ]
  },
  {
   "cell_type": "code",
   "execution_count": 1,
   "metadata": {},
   "outputs": [],
   "source": [
    "import pandas as pd\n",
    "import matplotlib.pyplot as plt"
   ]
  },
  {
   "cell_type": "code",
   "execution_count": 2,
   "metadata": {},
   "outputs": [
    {
     "data": {
      "text/html": [
       "<div>\n",
       "<style scoped>\n",
       "    .dataframe tbody tr th:only-of-type {\n",
       "        vertical-align: middle;\n",
       "    }\n",
       "\n",
       "    .dataframe tbody tr th {\n",
       "        vertical-align: top;\n",
       "    }\n",
       "\n",
       "    .dataframe thead th {\n",
       "        text-align: right;\n",
       "    }\n",
       "</style>\n",
       "<table border=\"1\" class=\"dataframe\">\n",
       "  <thead>\n",
       "    <tr style=\"text-align: right;\">\n",
       "      <th></th>\n",
       "      <th>weight</th>\n",
       "      <th>horsepower</th>\n",
       "      <th>mileage</th>\n",
       "    </tr>\n",
       "  </thead>\n",
       "  <tbody>\n",
       "    <tr>\n",
       "      <th>0</th>\n",
       "      <td>1.40</td>\n",
       "      <td>43</td>\n",
       "      <td>1</td>\n",
       "    </tr>\n",
       "    <tr>\n",
       "      <th>1</th>\n",
       "      <td>1.50</td>\n",
       "      <td>8</td>\n",
       "      <td>0</td>\n",
       "    </tr>\n",
       "    <tr>\n",
       "      <th>2</th>\n",
       "      <td>2.71</td>\n",
       "      <td>44</td>\n",
       "      <td>1</td>\n",
       "    </tr>\n",
       "    <tr>\n",
       "      <th>3</th>\n",
       "      <td>3.55</td>\n",
       "      <td>23</td>\n",
       "      <td>0</td>\n",
       "    </tr>\n",
       "    <tr>\n",
       "      <th>4</th>\n",
       "      <td>2.50</td>\n",
       "      <td>15</td>\n",
       "      <td>0</td>\n",
       "    </tr>\n",
       "  </tbody>\n",
       "</table>\n",
       "</div>"
      ],
      "text/plain": [
       "   weight  horsepower  mileage\n",
       "0    1.40          43        1\n",
       "1    1.50           8        0\n",
       "2    2.71          44        1\n",
       "3    3.55          23        0\n",
       "4    2.50          15        0"
      ]
     },
     "execution_count": 2,
     "metadata": {},
     "output_type": "execute_result"
    }
   ],
   "source": [
    "from io import StringIO\n",
    "dataset =StringIO('''\n",
    "weight,horsepower,mileage\n",
    "1.4,43,1\n",
    "1.5,8,0\n",
    "2.71,44,1\n",
    "3.55,23,0\n",
    "2.5,15,0\n",
    "2.9,19,0\n",
    "3.85,112,1\n",
    "3.96,87,1\n",
    "4.62,108,1\n",
    "4.7,21,0\n",
    "2.67,34,1\n",
    "2.5,20,0\n",
    "1.932,12, 0\n",
    "4.8,48,1\n",
    "1.321,32,1\n",
    "1.9013,52,1\n",
    "4.13,19,0\n",
    "2.8,29,0\n",
    "''')\n",
    "df = pd.read_csv(dataset)\n",
    "df.head()"
   ]
  },
  {
   "cell_type": "markdown",
   "metadata": {},
   "source": [
    "### 1. Plot the scatter of weight vs horsepower. The vehicles with high mileage should be in blue color and low should be in red color. Give appropriate legends. "
   ]
  },
  {
   "cell_type": "code",
   "execution_count": 3,
   "metadata": {},
   "outputs": [
    {
     "data": {
      "image/png": "[encoded data removed]",
      "text/plain": [
       "<Figure size 432x288 with 1 Axes>"
      ]
     },
     "metadata": {},
     "output_type": "display_data"
    }
   ],
   "source": [
    "high = df['mileage']==1\n",
    "low = df['mileage']==0\n",
    "\n",
    "plt.scatter(df['weight'][high],df['horsepower'][high],c='b',label=\"High mileage\")\n",
    "plt.scatter(df['weight'][low],df['horsepower'][low],c='r',label=\"Low mileage\")\n",
    "plt.xlabel('Weight')\n",
    "plt.ylabel('Horsepower')\n",
    "plt.title('Weight vs Horsepower')\n",
    "plt.grid()\n",
    "plt.legend()\n",
    "plt.show()"
   ]
  },
  {
   "cell_type": "markdown",
   "metadata": {},
   "source": [
    "### 2. Split the data set into training and testing data set. Use the train_test_split function to get a 80:20 split, using random_state 3. Plot a bar chart of number of 1's and 0's in the training dataset. "
   ]
  },
  {
   "cell_type": "code",
   "execution_count": 27,
   "metadata": {},
   "outputs": [
    {
     "data": {
      "image/png": "[encoded data removed]",
      "text/plain": [
       "<Figure size 432x288 with 1 Axes>"
      ]
     },
     "metadata": {},
     "output_type": "display_data"
    }
   ],
   "source": [
    "X = df[['weight','horsepower']]\n",
    "Y = df['mileage']\n",
    "from sklearn.model_selection import train_test_split\n",
    "x_train, x_test, y_train, y_test = train_test_split(X,Y, test_size = 0.20, random_state=3)\n",
    "\n",
    "\n",
    "objects = y_train.value_counts().keys()\n",
    "plt.bar(range(len(objects)),y_train.value_counts(),align='center')\n",
    "plt.xticks(range(len(objects)),objects)\n",
    "plt.xlabel(\"Mileage\")\n",
    "plt.ylabel(\"Count\")\n",
    "plt.title(\"Mileage vs Count\")\n",
    "plt.show()\n"
   ]
  },
  {
   "cell_type": "markdown",
   "metadata": {},
   "source": [
    "### 4. Use the perceptron model to classify the data, and get predictions for test dataset."
   ]
  },
  {
   "cell_type": "code",
   "execution_count": 22,
   "metadata": {},
   "outputs": [
    {
     "name": "stdout",
     "output_type": "stream",
     "text": [
      "Predictions for data set:\n",
      " [0 1 0 1]\n"
     ]
    }
   ],
   "source": [
    "from sklearn.linear_model import Perceptron\n",
    "classifier = Perceptron(max_iter=100)\n",
    "model = classifier.fit(x_train, y_train)\n",
    "predictions = model.predict(x_test)\n",
    "print(\"Predictions for data set:\\n\",predictions)"
   ]
  },
  {
   "cell_type": "markdown",
   "metadata": {},
   "source": [
    "### 5.Obtain the confusion matrix of the output."
   ]
  },
  {
   "cell_type": "code",
   "execution_count": 21,
   "metadata": {},
   "outputs": [
    {
     "name": "stdout",
     "output_type": "stream",
     "text": [
      "confusion matrix:\n",
      " [[2 0]\n",
      " [0 2]]\n"
     ]
    }
   ],
   "source": [
    "from sklearn import metrics\n",
    "print(\"confusion matrix:\\n\",metrics.confusion_matrix(y_test,predictions))"
   ]
  },
  {
   "cell_type": "markdown",
   "metadata": {},
   "source": [
    "### 6. Plot the separating hyperplane on the training dataset."
   ]
  },
  {
   "cell_type": "code",
   "execution_count": 23,
   "metadata": {},
   "outputs": [
    {
     "data": {
      "image/png": "[encoded data removed]",
      "text/plain": [
       "<Figure size 432x288 with 1 Axes>"
      ]
     },
     "metadata": {},
     "output_type": "display_data"
    }
   ],
   "source": [
    "import numpy as np\n",
    "\n",
    "x_min , x_max= 0, 5 \n",
    "y_min , y_max = 0, 115\n",
    "\n",
    "xx,yy = np.meshgrid(np.arange(x_min,x_max,0.01),np.arange(y_min,y_max,0.01)) #0.2 is step\n",
    "\n",
    "Z = model.predict(np.c_[xx.ravel(),yy.ravel()])\n",
    "\n",
    "color_map = {0:(0,0,0.9), 1:(1,0,0)}\n",
    "colors = [color_map[k] for k in y_train]\n",
    "\n",
    "Z = Z.reshape(xx.shape)\n",
    "#print(\"xx:\\n\\n\",xx,\"\\n\\nyy:\\n\\n\",yy,\"\\n\\nZ:\\n\\n\",Z)\n",
    "\n",
    "plt.contourf(xx, yy , Z, cmap=plt.cm.Greens)\n",
    "plt.scatter(x_train['weight'],x_train['horsepower'],c = colors, edgecolors = 'black')\n",
    "plt.xlabel('Weight')\n",
    "plt.ylabel('Horsepower')\n",
    "plt.title('Weight vs Horsepower')\n",
    "plt.grid()"
   ]
  },
  {
   "cell_type": "markdown",
   "metadata": {},
   "source": [
    "### 7. Get the classification result for the values of weight 2, 3.3, 1.21, 5.32, 1.23, 4.8 and horsepower 20, 29, 13, 100, 40, 49 respectively. \n"
   ]
  },
  {
   "cell_type": "code",
   "execution_count": 8,
   "metadata": {},
   "outputs": [
    {
     "data": {
      "text/plain": [
       "array([0, 0, 0, 1, 1, 1])"
      ]
     },
     "execution_count": 8,
     "metadata": {},
     "output_type": "execute_result"
    }
   ],
   "source": [
    "model.predict([[2,20],[3.3,29],[1.21,13],[5.32,100],[1.23,40],[4.8,49]])"
   ]
  },
  {
   "cell_type": "markdown",
   "metadata": {},
   "source": [
    "### Split the dataset with 80:20 ratio, but with random_state 299. Get the output of steps 3, 4, 5, 6. What is the difference from the previous output?"
   ]
  },
  {
   "cell_type": "code",
   "execution_count": 28,
   "metadata": {},
   "outputs": [
    {
     "data": {
      "image/png": "[encoded data removed]",
      "text/plain": [
       "<Figure size 432x288 with 1 Axes>"
      ]
     },
     "metadata": {},
     "output_type": "display_data"
    }
   ],
   "source": [
    "X = df[['weight','horsepower']]\n",
    "Y = df['mileage']\n",
    "from sklearn.model_selection import train_test_split\n",
    "x_train, x_test, y_train, y_test = train_test_split(X,Y, test_size = 0.20, random_state=299)\n",
    "\n",
    "objects = y_train.value_counts().keys()\n",
    "plt.bar(range(len(objects)),y_train.value_counts(),align='center')\n",
    "plt.xticks(range(len(objects)),objects)\n",
    "\n",
    "plt.xlabel(\"Mileage\")\n",
    "plt.ylabel(\"Count\")\n",
    "plt.title(\"Mileage vs Count\")\n",
    "plt.show()"
   ]
  },
  {
   "cell_type": "code",
   "execution_count": 26,
   "metadata": {},
   "outputs": [
    {
     "name": "stdout",
     "output_type": "stream",
     "text": [
      "Predictions for data set:\n",
      " [0 1 0 1]\n"
     ]
    }
   ],
   "source": [
    "from sklearn.linear_model import Perceptron\n",
    "classifier1 = Perceptron(max_iter=100)\n",
    "model1 = classifier1.fit(x_train, y_train)\n",
    "predictions1 = model1.predict(x_test)\n",
    "print(\"Predictions for data set:\\n\",predictions1)"
   ]
  },
  {
   "cell_type": "code",
   "execution_count": 24,
   "metadata": {},
   "outputs": [
    {
     "name": "stdout",
     "output_type": "stream",
     "text": [
      "confusion matrix:\n",
      " [[2 0]\n",
      " [0 2]]\n"
     ]
    }
   ],
   "source": [
    "from sklearn import metrics\n",
    "print(\"confusion matrix:\\n\",metrics.confusion_matrix(y_test,predictions1))"
   ]
  },
  {
   "cell_type": "markdown",
   "metadata": {},
   "source": [
    "### Perform KFold cross validation for k=3 to 6 for this dataset."
   ]
  },
  {
   "cell_type": "code",
   "execution_count": 30,
   "metadata": {},
   "outputs": [
    {
     "name": "stdout",
     "output_type": "stream",
     "text": [
      "Fold:  3 \n",
      "Accuracy: 0.89 (+/- 0.16) Cross-validated scores: [1.         0.83333333 0.83333333] \n",
      "\n",
      "Fold:  4 \n",
      "Accuracy: 0.88 (+/- 0.25) Cross-validated scores: [1.   1.   0.75 0.75] \n",
      "\n",
      "Fold:  5 \n",
      "Accuracy: 0.80 (+/- 0.37) Cross-validated scores: [0.75 1.   1.   0.75 0.5 ] \n",
      "\n",
      "Fold:  6 \n",
      "Accuracy: 0.79 (+/- 0.45) Cross-validated scores: [0.75 1.   1.   0.5  1.   0.5 ] \n",
      "\n"
     ]
    }
   ],
   "source": [
    "from sklearn.model_selection import cross_val_score, cross_val_predict\n",
    "from sklearn import metrics\n",
    "\n",
    "for i in range(3,7):\n",
    "    scores = cross_val_score(model,X,Y,cv=i)\n",
    "    print(\"Fold: \",i,\"\\nAccuracy: %0.2f (+/- %0.2f)\"%(scores.mean(),scores.std()*2),\"Cross-validated scores:\",scores,\"\\n\")"
   ]
  },
  {
   "cell_type": "code",
   "execution_count": null,
   "metadata": {},
   "outputs": [],
   "source": []
  }
 ],
 "metadata": {
  "kernelspec": {
   "display_name": "Python 3",
   "language": "python",
   "name": "python3"
  },
  "language_info": {
   "codemirror_mode": {
    "name": "ipython",
    "version": 3
   },
   "file_extension": ".py",
   "mimetype": "text/x-python",
   "name": "python",
   "nbconvert_exporter": "python",
   "pygments_lexer": "ipython3",
   "version": "3.6.5"
  }
 },
 "nbformat": 4,
 "nbformat_minor": 2
}
