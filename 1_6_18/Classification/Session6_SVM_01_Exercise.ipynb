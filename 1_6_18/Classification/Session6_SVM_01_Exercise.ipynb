{
 "cells": [
  {
   "cell_type": "markdown",
   "metadata": {},
   "source": [
    "# Exercise - Iris Flower classification with SVM\n",
    "\n",
    "The iris flower dataset is perhaps the most famous dataset for classification. It contains 3 types of flowers with 4 features (Sepal Length & Width, Petal Length & Width) https://archive.ics.uci.edu/ml/datasets/iris. \n",
    "We have to classify flowers based on their features. \n",
    "\n",
    "### Perform the following operations:\n",
    "\n",
    "1. Read the data into python using Pandas. Plot a scatter of Sepal length vs width for all the flowers. Similarly for Petal Length and width. The plot should look something like the first figure below. Which features are clear indicators of the type of the flower?\n",
    "2. The flower column of the data is a string denoting the flower. Convert Iris-setosa, Iris-versicolor and Iris-virginica to numbers 0, 1, 2 respectively with a lambda method and apply method of pandas.\n",
    "3. Plot a bar chart of the flowers. (type of flower vs number of rows)\n",
    "4. First let's visualize the SVM for the flowers. Initialize a SVM object with the appropriate kernel. Apply SVM on the **entire** iris dataset, with the features only petal length & width. Plot the SVM vectors for **petal length & petal width**. The output of SVM should be the second figure below.\n",
    "5. Now let's train and test the SVM. Split your dataset into training and testing. There should be at least 40 samples of each flower in the training dataset, and remaining in the testing dataset. Make a new SVM kernel and train your data. Obtain the Confusion Matrix. \n",
    "6. Perform Kfold cross validation scoring with k varying from 5 to 12. \n",
    "\n",
    "![Image](./data/iris.png)\n",
    "![Image](./data/iris_svm.png)"
   ]
  },
  {
   "cell_type": "code",
   "execution_count": 1,
   "metadata": {},
   "outputs": [],
   "source": [
    "import pandas as pd\n",
    "from sklearn.svm import SVC\n",
    "import numpy as np\n",
    "from matplotlib import pyplot as plt\n",
    "from sklearn import linear_model"
   ]
  },
  {
   "cell_type": "code",
   "execution_count": 2,
   "metadata": {},
   "outputs": [
    {
     "name": "stdout",
     "output_type": "stream",
     "text": [
      "(150, 5)\n"
     ]
    },
    {
     "data": {
      "text/html": [
       "<div>\n",
       "<style scoped>\n",
       "    .dataframe tbody tr th:only-of-type {\n",
       "        vertical-align: middle;\n",
       "    }\n",
       "\n",
       "    .dataframe tbody tr th {\n",
       "        vertical-align: top;\n",
       "    }\n",
       "\n",
       "    .dataframe thead th {\n",
       "        text-align: right;\n",
       "    }\n",
       "</style>\n",
       "<table border=\"1\" class=\"dataframe\">\n",
       "  <thead>\n",
       "    <tr style=\"text-align: right;\">\n",
       "      <th></th>\n",
       "      <th>sepal_length</th>\n",
       "      <th>sepal_width</th>\n",
       "      <th>petal_length</th>\n",
       "      <th>petal_width</th>\n",
       "      <th>flower</th>\n",
       "    </tr>\n",
       "  </thead>\n",
       "  <tbody>\n",
       "    <tr>\n",
       "      <th>0</th>\n",
       "      <td>5.1</td>\n",
       "      <td>3.5</td>\n",
       "      <td>1.4</td>\n",
       "      <td>0.2</td>\n",
       "      <td>Iris-setosa</td>\n",
       "    </tr>\n",
       "    <tr>\n",
       "      <th>1</th>\n",
       "      <td>4.9</td>\n",
       "      <td>3.0</td>\n",
       "      <td>1.4</td>\n",
       "      <td>0.2</td>\n",
       "      <td>Iris-setosa</td>\n",
       "    </tr>\n",
       "    <tr>\n",
       "      <th>2</th>\n",
       "      <td>4.7</td>\n",
       "      <td>3.2</td>\n",
       "      <td>1.3</td>\n",
       "      <td>0.2</td>\n",
       "      <td>Iris-setosa</td>\n",
       "    </tr>\n",
       "    <tr>\n",
       "      <th>3</th>\n",
       "      <td>4.6</td>\n",
       "      <td>3.1</td>\n",
       "      <td>1.5</td>\n",
       "      <td>0.2</td>\n",
       "      <td>Iris-setosa</td>\n",
       "    </tr>\n",
       "    <tr>\n",
       "      <th>4</th>\n",
       "      <td>5.0</td>\n",
       "      <td>3.6</td>\n",
       "      <td>1.4</td>\n",
       "      <td>0.2</td>\n",
       "      <td>Iris-setosa</td>\n",
       "    </tr>\n",
       "  </tbody>\n",
       "</table>\n",
       "</div>"
      ],
      "text/plain": [
       "   sepal_length  sepal_width  petal_length  petal_width       flower\n",
       "0           5.1          3.5           1.4          0.2  Iris-setosa\n",
       "1           4.9          3.0           1.4          0.2  Iris-setosa\n",
       "2           4.7          3.2           1.3          0.2  Iris-setosa\n",
       "3           4.6          3.1           1.5          0.2  Iris-setosa\n",
       "4           5.0          3.6           1.4          0.2  Iris-setosa"
      ]
     },
     "execution_count": 2,
     "metadata": {},
     "output_type": "execute_result"
    }
   ],
   "source": [
    "cols = ['sepal_length', 'sepal_width', 'petal_length', 'petal_width', 'flower']\n",
    "x_cols = cols[:-1]\n",
    "iris_data = pd.read_csv(\"./data/iris.data.txt\", header=None, names=cols)\n",
    "print(iris_data.shape)\n",
    "iris_data.head()\n"
   ]
  },
  {
   "cell_type": "markdown",
   "metadata": {},
   "source": [
    "### 1. Read the data into python using Pandas. Plot a scatter of Sepal length vs width for all the flowers. Similarly for Petal Length and width. The plot should look something like the first figure below. Which features are clear indicators of the type of the flower?"
   ]
  },
  {
   "cell_type": "code",
   "execution_count": 3,
   "metadata": {},
   "outputs": [
    {
     "data": {
      "image/png": "[encoded data removed]",
      "text/plain": [
       "<Figure size 576x432 with 1 Axes>"
      ]
     },
     "metadata": {},
     "output_type": "display_data"
    }
   ],
   "source": [
    "setosa = iris_data['flower']=='Iris-setosa'\n",
    "virginica = iris_data['flower']=='Iris-virginica'\n",
    "versicolor = iris_data['flower']=='Iris-versicolor'\n",
    "\n",
    "plt.figure(figsize=(8,6))\n",
    "plt.scatter(iris_data['sepal_length'][setosa],iris_data['sepal_width'][setosa],label=\"Setosa\",c='r')\n",
    "plt.scatter(iris_data['sepal_length'][virginica],iris_data['sepal_width'][virginica],label=\"Virginica\",c='b')\n",
    "plt.scatter(iris_data['sepal_length'][versicolor],iris_data['sepal_width'][versicolor],label=\"Versicolor\",c='g')\n",
    "plt.legend()\n",
    "plt.xlabel('Sepal length')\n",
    "plt.ylabel('Sepal width')\n",
    "plt.title('Sepal length vs Sepal width')\n",
    "plt.grid()\n",
    "plt.show()\n"
   ]
  },
  {
   "cell_type": "code",
   "execution_count": 14,
   "metadata": {},
   "outputs": [
    {
     "data": {
      "image/png": "[encoded data removed]",
      "text/plain": [
       "<Figure size 576x432 with 1 Axes>"
      ]
     },
     "metadata": {},
     "output_type": "display_data"
    }
   ],
   "source": [
    "plt.figure(figsize=(8,6))\n",
    "plt.scatter(iris_data['petal_length'][setosa],iris_data['petal_width'][setosa],label=\"Setosa\",c='r')\n",
    "plt.scatter(iris_data['petal_length'][virginica],iris_data['petal_width'][virginica],label=\"Virginica\",c='b')\n",
    "plt.scatter(iris_data['petal_length'][versicolor],iris_data['petal_width'][versicolor],label=\"Versicolor\",c='g')\n",
    "plt.legend()\n",
    "plt.xlabel('Petal length')\n",
    "plt.ylabel('Petal width')\n",
    "plt.title('Petal_ length vs Petal width')\n",
    "plt.grid()\n",
    "plt.show()"
   ]
  },
  {
   "cell_type": "markdown",
   "metadata": {},
   "source": [
    "### 2. The flower column of the data is a string denoting the flower. Convert Iris-setosa, Iris-versicolor and Iris-virginica to numbers 0, 1, 2 respectively with a lambda method and apply method of pandas."
   ]
  },
  {
   "cell_type": "code",
   "execution_count": 5,
   "metadata": {},
   "outputs": [
    {
     "data": {
      "text/html": [
       "<div>\n",
       "<style scoped>\n",
       "    .dataframe tbody tr th:only-of-type {\n",
       "        vertical-align: middle;\n",
       "    }\n",
       "\n",
       "    .dataframe tbody tr th {\n",
       "        vertical-align: top;\n",
       "    }\n",
       "\n",
       "    .dataframe thead th {\n",
       "        text-align: right;\n",
       "    }\n",
       "</style>\n",
       "<table border=\"1\" class=\"dataframe\">\n",
       "  <thead>\n",
       "    <tr style=\"text-align: right;\">\n",
       "      <th></th>\n",
       "      <th>sepal_length</th>\n",
       "      <th>sepal_width</th>\n",
       "      <th>petal_length</th>\n",
       "      <th>petal_width</th>\n",
       "      <th>flower</th>\n",
       "    </tr>\n",
       "  </thead>\n",
       "  <tbody>\n",
       "    <tr>\n",
       "      <th>0</th>\n",
       "      <td>5.1</td>\n",
       "      <td>3.5</td>\n",
       "      <td>1.4</td>\n",
       "      <td>0.2</td>\n",
       "      <td>0</td>\n",
       "    </tr>\n",
       "    <tr>\n",
       "      <th>1</th>\n",
       "      <td>4.9</td>\n",
       "      <td>3.0</td>\n",
       "      <td>1.4</td>\n",
       "      <td>0.2</td>\n",
       "      <td>0</td>\n",
       "    </tr>\n",
       "    <tr>\n",
       "      <th>2</th>\n",
       "      <td>4.7</td>\n",
       "      <td>3.2</td>\n",
       "      <td>1.3</td>\n",
       "      <td>0.2</td>\n",
       "      <td>0</td>\n",
       "    </tr>\n",
       "    <tr>\n",
       "      <th>3</th>\n",
       "      <td>4.6</td>\n",
       "      <td>3.1</td>\n",
       "      <td>1.5</td>\n",
       "      <td>0.2</td>\n",
       "      <td>0</td>\n",
       "    </tr>\n",
       "    <tr>\n",
       "      <th>4</th>\n",
       "      <td>5.0</td>\n",
       "      <td>3.6</td>\n",
       "      <td>1.4</td>\n",
       "      <td>0.2</td>\n",
       "      <td>0</td>\n",
       "    </tr>\n",
       "  </tbody>\n",
       "</table>\n",
       "</div>"
      ],
      "text/plain": [
       "   sepal_length  sepal_width  petal_length  petal_width  flower\n",
       "0           5.1          3.5           1.4          0.2       0\n",
       "1           4.9          3.0           1.4          0.2       0\n",
       "2           4.7          3.2           1.3          0.2       0\n",
       "3           4.6          3.1           1.5          0.2       0\n",
       "4           5.0          3.6           1.4          0.2       0"
      ]
     },
     "execution_count": 5,
     "metadata": {},
     "output_type": "execute_result"
    }
   ],
   "source": [
    "di = {'Iris-setosa':0, 'Iris-virginica':1, 'Iris-versicolor':2}\n",
    "iris_data['flower'] = iris_data['flower'].apply(lambda x: di[x])\n",
    "iris_data.head()"
   ]
  },
  {
   "cell_type": "markdown",
   "metadata": {},
   "source": [
    "### 3. Plot a bar chart of the flowers. (type of flower vs number of rows)"
   ]
  },
  {
   "cell_type": "code",
   "execution_count": 15,
   "metadata": {},
   "outputs": [
    {
     "data": {
      "image/png": "[encoded data removed]",
      "text/plain": [
       "<Figure size 432x288 with 1 Axes>"
      ]
     },
     "metadata": {},
     "output_type": "display_data"
    }
   ],
   "source": [
    "plt.bar(iris_data['flower'].unique(),iris_data['flower'].value_counts())\n",
    "plt.xlabel('Flowers')\n",
    "plt.ylabel(\"Frequency of each\")\n",
    "plt.title(\"Number of each type of flower\")\n",
    "plt.grid()\n",
    "plt.show()\n"
   ]
  },
  {
   "cell_type": "markdown",
   "metadata": {},
   "source": [
    "### 4. First let's visualize the SVM for the flowers. Initialize a SVM object with the appropriate kernel. Apply SVM on the **entire** iris dataset, with the features only petal length & width. Plot the SVM vectors for **petal length & petal width**. The output of SVM should be the second figure below."
   ]
  },
  {
   "cell_type": "code",
   "execution_count": 7,
   "metadata": {},
   "outputs": [
    {
     "data": {
      "image/png": "[encoded data removed]",
      "text/plain": [
       "<Figure size 432x288 with 1 Axes>"
      ]
     },
     "metadata": {},
     "output_type": "display_data"
    }
   ],
   "source": [
    "from sklearn.svm import SVC\n",
    "import numpy as np\n",
    "\n",
    "iris_setosa = iris_data[iris_data['flower']==0][['petal_length','petal_width']]\n",
    "iris_virginica = iris_data[iris_data['flower']==1][['petal_length','petal_width']]\n",
    "iris_versicolor = iris_data[iris_data['flower']==2][['petal_length','petal_width']]\n",
    "\n",
    "SVCClassifier1 = SVC(kernel='linear',C=10,max_iter=100)\n",
    "xf_train,yf_train =iris_data[['petal_length','petal_width']],iris_data['flower']\n",
    "model1 = SVCClassifier1.fit(xf_train,yf_train)\n",
    "\n",
    "x_min , x_max= 0, 7.5 \n",
    "y_min , y_max = 0, 3\n",
    "xx,yy = np.meshgrid(np.arange(x_min,x_max,0.01),np.arange(y_min,y_max,0.01)) #0.2 is step\n",
    "\n",
    "\n",
    "Z = model1.predict(np.c_[xx.ravel(),yy.ravel()])\n",
    "Z = Z.reshape(xx.shape)\n",
    "#print(\"xx:\\n\\n\",xx,\"\\n\\nyy:\\n\\n\",yy,\"\\n\\nZ:\\n\\n\",Z)\n",
    "\n",
    "plt.contourf(xx, yy , Z, cmap=plt.cm.Reds)\n",
    "plt.scatter(iris_setosa['petal_length'],iris_setosa['petal_width'],c = 'r', edgecolors = 'black',label=\"Setosa\")\n",
    "plt.scatter(iris_virginica['petal_length'],iris_virginica['petal_width'],c = 'b', edgecolors = 'black',label=\"Virginica\")\n",
    "plt.scatter(iris_versicolor['petal_length'],iris_versicolor['petal_width'],c = 'y', edgecolors = 'black',label=\"Versicolor\")\n",
    "plt.grid()\n",
    "plt.legend()\n",
    "plt.xlabel('Petal length')\n",
    "plt.ylabel('Petal width')\n",
    "plt.title('Petal_ length vs Petal width')\n",
    "plt.show()"
   ]
  },
  {
   "cell_type": "markdown",
   "metadata": {},
   "source": [
    "### 5. Now let's train and test the SVM. Split your dataset into training and testing. There should be at least 40 samples of each flower in the training dataset, and remaining in the testing dataset. Make a new SVM kernel and train your data. Obtain the Confusion Matrix. "
   ]
  },
  {
   "cell_type": "code",
   "execution_count": 8,
   "metadata": {},
   "outputs": [],
   "source": [
    "from sklearn.svm import SVC\n",
    "SVCClassifier = SVC(kernel='linear',C=10,max_iter=100)\n",
    "\n",
    "SVCModel = SVCClassifier.fit(iris_data[['petal_length','petal_width']], iris_data['flower'])"
   ]
  },
  {
   "cell_type": "code",
   "execution_count": 9,
   "metadata": {},
   "outputs": [],
   "source": [
    "iris_setosa = iris_data[iris_data['flower']==0][['petal_length','petal_width','flower']]\n",
    "iris_virginica = iris_data[iris_data['flower']==1][['petal_length','petal_width','flower']]\n",
    "iris_versicolor = iris_data[iris_data['flower']==2][['petal_length','petal_width','flower']]\n",
    "\n",
    "training_set = pd.concat([iris_setosa.iloc[0:40],iris_virginica.iloc[0:40],iris_versicolor.iloc[0:40]])\n",
    "x_train,y_train =training_set[['petal_length','petal_width']],training_set['flower']\n",
    "\n",
    "training_set = pd.concat([iris_setosa.iloc[40:],iris_virginica.iloc[40:],iris_versicolor.iloc[40:]])\n",
    "x_test,y_test =training_set[['petal_length','petal_width']],training_set['flower']\n"
   ]
  },
  {
   "cell_type": "code",
   "execution_count": 10,
   "metadata": {},
   "outputs": [],
   "source": [
    "model = SVCClassifier.fit(x_train,y_train)"
   ]
  },
  {
   "cell_type": "code",
   "execution_count": 11,
   "metadata": {},
   "outputs": [],
   "source": [
    "obtained_y = model.predict(x_test)"
   ]
  },
  {
   "cell_type": "code",
   "execution_count": 12,
   "metadata": {},
   "outputs": [
    {
     "data": {
      "text/plain": [
       "array([[10,  0,  0],\n",
       "       [ 0, 10,  0],\n",
       "       [ 0,  0, 10]])"
      ]
     },
     "execution_count": 12,
     "metadata": {},
     "output_type": "execute_result"
    }
   ],
   "source": [
    "from sklearn import metrics\n",
    "metrics.confusion_matrix(y_test,obtained_y)"
   ]
  },
  {
   "cell_type": "markdown",
   "metadata": {},
   "source": [
    "### 6. Perform Kfold cross validation scoring with k varying from 5 to 12. "
   ]
  },
  {
   "cell_type": "code",
   "execution_count": 13,
   "metadata": {},
   "outputs": [
    {
     "name": "stdout",
     "output_type": "stream",
     "text": [
      "Fold = 5 \n",
      "Accuracy: 0.95 (+/- 0.07) Cross-validated scores: [0.96666667 0.96666667 0.93333333 0.9        1.        ] \n",
      "\n",
      "\n",
      "Fold = 6 \n",
      "Accuracy: 0.96 (+/- 0.07) Cross-validated scores: [0.96296296 1.         0.91666667 0.91666667 0.95833333 1.        ] \n",
      "\n",
      "\n",
      "Fold = 7 \n",
      "Accuracy: 0.95 (+/- 0.10) Cross-validated scores: [0.95833333 1.         0.9047619  0.95238095 0.85714286 1.\n",
      " 1.        ] \n",
      "\n",
      "\n",
      "Fold = 8 \n",
      "Accuracy: 0.95 (+/- 0.10) Cross-validated scores: [0.95238095 1.         0.94444444 0.94444444 0.94444444 0.83333333\n",
      " 1.         1.        ] \n",
      "\n",
      "\n",
      "Fold = 9 \n",
      "Accuracy: 0.96 (+/- 0.10) Cross-validated scores: [1.         0.94444444 1.         0.88888889 0.94444444 0.86666667\n",
      " 1.         1.         1.        ] \n",
      "\n",
      "\n",
      "Fold = 10 \n",
      "Accuracy: 0.96 (+/- 0.09) Cross-validated scores: [1.         0.93333333 1.         0.93333333 0.93333333 0.93333333\n",
      " 0.86666667 1.         1.         1.        ] \n",
      "\n",
      "\n",
      "Fold = 11 \n",
      "Accuracy: 0.96 (+/- 0.07) Cross-validated scores: [1.         0.93333333 1.         0.93333333 0.93333333 0.93333333\n",
      " 0.91666667 0.91666667 1.         1.         1.        ] \n",
      "\n",
      "\n",
      "Fold = 12 \n",
      "Accuracy: 0.96 (+/- 0.11) Cross-validated scores: [1.         0.93333333 1.         1.         0.83333333 1.\n",
      " 0.91666667 0.91666667 0.91666667 1.         1.         1.        ] \n",
      "\n",
      "\n"
     ]
    }
   ],
   "source": [
    "from sklearn.model_selection import cross_val_score, cross_val_predict\n",
    "from sklearn import metrics\n",
    "\n",
    "for i in range(5,13):\n",
    "    scores = cross_val_score(model,iris_data[['petal_length','petal_width']],iris_data['flower'],cv=i)\n",
    "    print(\"Fold =\",i,\"\\nAccuracy: %0.2f (+/- %0.2f)\"%(scores.mean(),scores.std()*2),\"Cross-validated scores:\",scores,\"\\n\\n\")"
   ]
  }
 ],
 "metadata": {
  "kernelspec": {
   "display_name": "Python 3",
   "language": "python",
   "name": "python3"
  },
  "language_info": {
   "codemirror_mode": {
    "name": "ipython",
    "version": 3
   },
   "file_extension": ".py",
   "mimetype": "text/x-python",
   "name": "python",
   "nbconvert_exporter": "python",
   "pygments_lexer": "ipython3",
   "version": "3.6.5"
  }
 },
 "nbformat": 4,
 "nbformat_minor": 2
}
