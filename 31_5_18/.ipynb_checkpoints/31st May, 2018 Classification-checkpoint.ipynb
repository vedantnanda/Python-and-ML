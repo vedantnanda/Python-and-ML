{
 "cells": [
  {
   "cell_type": "markdown",
   "metadata": {},
   "source": [
    "# Classification"
   ]
  },
  {
   "cell_type": "markdown",
   "metadata": {},
   "source": [
    "**PERCEPTRON:** a computer model or computerized machine devised to represent or <br>\n",
    "    simulate the ability of the brain to recognize and discriminate."
   ]
  },
  {
   "cell_type": "markdown",
   "metadata": {},
   "source": [
    "# tu gote balunga toka"
   ]
  },
  {
   "cell_type": "markdown",
   "metadata": {},
   "source": [
    "## Heaviside Step Function\n",
    "<pre>\n",
    "g(x) = 1, x > 0\n",
    "       0, elsewhere\n",
    "</pre>"
   ]
  },
  {
   "cell_type": "code",
   "execution_count": 1,
   "metadata": {},
   "outputs": [],
   "source": [
    "import pandas as pd\n",
    "import matplotlib.pyplot as plt"
   ]
  },
  {
   "cell_type": "code",
   "execution_count": 2,
   "metadata": {},
   "outputs": [
    {
     "data": {
      "text/html": [
       "<div>\n",
       "<style scoped>\n",
       "    .dataframe tbody tr th:only-of-type {\n",
       "        vertical-align: middle;\n",
       "    }\n",
       "\n",
       "    .dataframe tbody tr th {\n",
       "        vertical-align: top;\n",
       "    }\n",
       "\n",
       "    .dataframe thead th {\n",
       "        text-align: right;\n",
       "    }\n",
       "</style>\n",
       "<table border=\"1\" class=\"dataframe\">\n",
       "  <thead>\n",
       "    <tr style=\"text-align: right;\">\n",
       "      <th></th>\n",
       "      <th>sleep_proportion</th>\n",
       "      <th>grumpy_proportion</th>\n",
       "      <th>prediction</th>\n",
       "    </tr>\n",
       "  </thead>\n",
       "  <tbody>\n",
       "    <tr>\n",
       "      <th>0</th>\n",
       "      <td>0.2</td>\n",
       "      <td>0.1</td>\n",
       "      <td>kitten</td>\n",
       "    </tr>\n",
       "    <tr>\n",
       "      <th>1</th>\n",
       "      <td>0.4</td>\n",
       "      <td>0.6</td>\n",
       "      <td>kitten</td>\n",
       "    </tr>\n",
       "    <tr>\n",
       "      <th>2</th>\n",
       "      <td>0.5</td>\n",
       "      <td>0.2</td>\n",
       "      <td>kitten</td>\n",
       "    </tr>\n",
       "    <tr>\n",
       "      <th>3</th>\n",
       "      <td>0.7</td>\n",
       "      <td>0.9</td>\n",
       "      <td>adult</td>\n",
       "    </tr>\n",
       "  </tbody>\n",
       "</table>\n",
       "</div>"
      ],
      "text/plain": [
       "   sleep_proportion  grumpy_proportion prediction\n",
       "0               0.2                0.1     kitten\n",
       "1               0.4                0.6     kitten\n",
       "2               0.5                0.2     kitten\n",
       "3               0.7                0.9      adult"
      ]
     },
     "execution_count": 2,
     "metadata": {},
     "output_type": "execute_result"
    }
   ],
   "source": [
    "df = pd.DataFrame({'sleep_proportion':[0.2,0.4,0.5,0.7],\n",
    "                  'grumpy_proportion':[0.1,0.6,0.2,0.9],\n",
    "                  'prediction':['kitten','kitten','kitten','adult']})\n",
    "df"
   ]
  },
  {
   "cell_type": "code",
   "execution_count": 3,
   "metadata": {},
   "outputs": [
    {
     "name": "stdout",
     "output_type": "stream",
     "text": [
      "   sleep_proportion  grumpy_proportion prediction\n",
      "0               0.2                0.1     kitten\n",
      "1               0.4                0.6     kitten\n",
      "2               0.5                0.2     kitten \n",
      "\n",
      "   sleep_proportion  grumpy_proportion prediction\n",
      "3               0.7                0.9      adult\n"
     ]
    }
   ],
   "source": [
    "kittens = df[df['prediction']=='kitten']\n",
    "adults = df[df['prediction']=='adult']\n",
    "\n",
    "print(kittens,'\\n')\n",
    "print(adults)"
   ]
  },
  {
   "cell_type": "code",
   "execution_count": 4,
   "metadata": {},
   "outputs": [
    {
     "data": {
      "image/png": "[encoded data removed]",
      "text/plain": [
       "<Figure size 432x288 with 1 Axes>"
      ]
     },
     "metadata": {},
     "output_type": "display_data"
    }
   ],
   "source": [
    "plt.scatter(kittens['sleep_proportion'],kittens['grumpy_proportion'], label='kittens')\n",
    "plt.scatter(adults['sleep_proportion'],adults['grumpy_proportion'], c='r',label='adults')\n",
    "\n",
    "plt.xlabel('sleep proportion of day')\n",
    "plt.ylabel('grumpy proportion of day')\n",
    "plt.legend()\n",
    "plt.grid()\n",
    "plt.show()"
   ]
  },
  {
   "cell_type": "code",
   "execution_count": 5,
   "metadata": {},
   "outputs": [
    {
     "name": "stdout",
     "output_type": "stream",
     "text": [
      "   sleep_proportion  grumpy_proportion prediction  bprediction\n",
      "0               0.2                0.1     kitten         True\n",
      "1               0.4                0.6     kitten         True\n",
      "2               0.5                0.2     kitten         True\n",
      "3               0.7                0.9      adult        False\n"
     ]
    }
   ],
   "source": [
    "df['bprediction'] = df['prediction'].apply(lambda x:x == 'kitten')\n",
    "print(df)\n",
    "from sklearn.linear_model import Perceptron\n",
    "\n",
    "classifier = Perceptron(max_iter=100)\n",
    "\n",
    "model = classifier.fit(df[['sleep_proportion','grumpy_proportion']], df['bprediction'])"
   ]
  },
  {
   "cell_type": "markdown",
   "metadata": {},
   "source": [
    "## Predict"
   ]
  },
  {
   "cell_type": "code",
   "execution_count": 6,
   "metadata": {},
   "outputs": [
    {
     "name": "stdout",
     "output_type": "stream",
     "text": [
      "[False]\n",
      "[ True]\n",
      "[ True]\n"
     ]
    }
   ],
   "source": [
    "print(model.predict([[1.2,1.1]]))\n",
    "print(model.predict([[0.2,0.1]]))\n",
    "print(model.predict([[0.7,0.7]]))"
   ]
  },
  {
   "cell_type": "code",
   "execution_count": 30,
   "metadata": {},
   "outputs": [
    {
     "name": "stdout",
     "output_type": "stream",
     "text": [
      "[[0.    0.002 0.004 ... 0.994 0.996 0.998]\n",
      " [0.    0.002 0.004 ... 0.994 0.996 0.998]\n",
      " [0.    0.002 0.004 ... 0.994 0.996 0.998]\n",
      " ...\n",
      " [0.    0.002 0.004 ... 0.994 0.996 0.998]\n",
      " [0.    0.002 0.004 ... 0.994 0.996 0.998]\n",
      " [0.    0.002 0.004 ... 0.994 0.996 0.998]] \n",
      " [[0.    0.    0.    ... 0.    0.    0.   ]\n",
      " [0.002 0.002 0.002 ... 0.002 0.002 0.002]\n",
      " [0.004 0.004 0.004 ... 0.004 0.004 0.004]\n",
      " ...\n",
      " [0.994 0.994 0.994 ... 0.994 0.994 0.994]\n",
      " [0.996 0.996 0.996 ... 0.996 0.996 0.996]\n",
      " [0.998 0.998 0.998 ... 0.998 0.998 0.998]] \n",
      " [[ True  True  True ...  True  True  True]\n",
      " [ True  True  True ...  True  True  True]\n",
      " [ True  True  True ...  True  True  True]\n",
      " ...\n",
      " [ True  True  True ... False False False]\n",
      " [ True  True  True ... False False False]\n",
      " [ True  True  True ... False False False]]\n"
     ]
    },
    {
     "data": {
      "image/png": "[encoded data removed]",
      "text/plain": [
       "<Figure size 432x288 with 1 Axes>"
      ]
     },
     "metadata": {},
     "output_type": "display_data"
    }
   ],
   "source": [
    "import numpy as np\n",
    "\n",
    "#x_min , x_max = df.iloc[:,0].min()-1, df.iloc[:,0].max()+1\n",
    "#y_min , y_max = df.iloc[:,1].min()-1, df.iloc[:,1].max()+1\n",
    "\n",
    "x_min , x_max= 0, 1 \n",
    "y_min , y_max = 0, 1\n",
    "\n",
    "xx,yy = np.meshgrid(np.arange(x_min,x_max,0.002),np.arange(y_min,y_max,0.002)) #0.2 is step\n",
    "#print(xx,'\\n',yy)\n",
    "#print(xx.ravel(),'\\n',yy.ravel())\n",
    "#print(np.c_[xx.ravel(),yy.ravel()])\n",
    "\n",
    "Z = model.predict(np.c_[xx.ravel(),yy.ravel()])\n",
    "#print(Z)\n",
    "\n",
    "color_map = {0:(0,0,0.9), 1:(1,0,0)}\n",
    "colors = [color_map[y] for y in df['bprediction']]\n",
    "\n",
    "Z = Z.reshape(xx.shape)\n",
    "print(xx,\"\\n\",yy,\"\\n\",Z)\n",
    "\n",
    "plt.contourf(xx, yy , Z, cmap=plt.cm.Greens)\n",
    "plt.axis([0,1,0,1])\n",
    "plt.scatter(df['sleep_proportion'],df['grumpy_proportion'],c = colors, edgecolors = 'black')\n",
    "plt.grid()"
   ]
  },
  {
   "cell_type": "code",
   "execution_count": 32,
   "metadata": {},
   "outputs": [],
   "source": [
    "#np.meshgrid([0.2,0.3],[0.4,0.5])"
   ]
  },
  {
   "cell_type": "markdown",
   "metadata": {},
   "source": [
    "# Support Vector machine\n",
    "- The goal of a support vector machine is to find the optimal separating hyperlane which maximizes the margin of the training data."
   ]
  },
  {
   "cell_type": "raw",
   "metadata": {},
   "source": []
  },
  {
   "cell_type": "code",
   "execution_count": 34,
   "metadata": {},
   "outputs": [],
   "source": [
    "from sklearn.svm import SVC\n",
    "SVCClassifier = SVC(kernel='linear',C=10,max_iter=100)\n",
    "\n",
    "SVCModel = SVCClassifier.fit(df[['sleep_proportion','grumpy_proportion']], df['bprediction'])"
   ]
  },
  {
   "cell_type": "code",
   "execution_count": 41,
   "metadata": {},
   "outputs": [
    {
     "name": "stdout",
     "output_type": "stream",
     "text": [
      "[ True False]\n"
     ]
    },
    {
     "data": {
      "image/png": "[encoded data removed]",
      "text/plain": [
       "<Figure size 432x288 with 1 Axes>"
      ]
     },
     "metadata": {},
     "output_type": "display_data"
    }
   ],
   "source": [
    "pred_input = np.c_[xx.ravel(),yy.ravel()]\n",
    "SVC_Z = SVCModel.predict(pred_input)\n",
    "SVC_Z = SVC_Z.reshape(xx.shape)\n",
    "\n",
    "print(SVCModel.predict([[0,0],[1,1]]))\n",
    "\n",
    "plt.contourf(xx,yy,SVC_Z,cmap=plt.cm.Blues)\n",
    "plt.scatter(kittens['sleep_proportion'],kittens['grumpy_proportion'],c='y', label='kittens')\n",
    "plt.scatter(adults['sleep_proportion'],adults['grumpy_proportion'], c='r',label='adults')\n",
    "\n",
    "plt.axis([0,1,0,1])\n",
    "plt.grid()"
   ]
  },
  {
   "cell_type": "code",
   "execution_count": null,
   "metadata": {},
   "outputs": [],
   "source": []
  },
  {
   "cell_type": "code",
   "execution_count": null,
   "metadata": {},
   "outputs": [],
   "source": []
  }
 ],
 "metadata": {
  "kernelspec": {
   "display_name": "Python 3",
   "language": "python",
   "name": "python3"
  },
  "language_info": {
   "codemirror_mode": {
    "name": "ipython",
    "version": 3
   },
   "file_extension": ".py",
   "mimetype": "text/x-python",
   "name": "python",
   "nbconvert_exporter": "python",
   "pygments_lexer": "ipython3",
   "version": "3.6.5"
  }
 },
 "nbformat": 4,
 "nbformat_minor": 2
}
